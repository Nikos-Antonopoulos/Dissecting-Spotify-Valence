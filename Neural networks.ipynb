{
 "cells": [
  {
   "cell_type": "code",
   "execution_count": 1,
   "metadata": {},
   "outputs": [],
   "source": [
    "import numpy as np\n",
    "import pandas as pd\n",
    "from scipy import stats\n",
    "\n",
    "songs=pd.read_csv('data/tracks.csv')\n",
    "songs=songs.sample(n=25000)"
   ]
  },
  {
   "cell_type": "markdown",
   "metadata": {},
   "source": [
    "# Obtaining louris songs"
   ]
  },
  {
   "cell_type": "code",
   "execution_count": 2,
   "metadata": {},
   "outputs": [],
   "source": [
    "import spotipy\n",
    "from spotipy.oauth2 import SpotifyClientCredentials\n",
    "import re \n",
    "import matplotlib.pyplot as plt\n",
    "import seaborn as sns\n",
    "import statsmodels.formula.api as smf \n",
    "from plotnine import *"
   ]
  },
  {
   "cell_type": "code",
   "execution_count": 3,
   "metadata": {},
   "outputs": [],
   "source": [
    "client_id = \"7b172c47988b4d2da267ad35a2a23d88\"\n",
    "client_secret = \"bd980144781a436ca841e0d54187cd74\"\n",
    "client_credentials_manager = SpotifyClientCredentials(client_id=client_id, client_secret=client_secret)\n",
    "sp = spotipy.Spotify(client_credentials_manager=client_credentials_manager) "
   ]
  },
  {
   "cell_type": "code",
   "execution_count": 4,
   "metadata": {},
   "outputs": [],
   "source": [
    "# with open('data/spotify_ids.txt', 'r') as f:\n",
    "#     all_track_ids = [line.strip() for line in f]"
   ]
  },
  {
   "cell_type": "code",
   "execution_count": 5,
   "metadata": {},
   "outputs": [],
   "source": [
    "# tracks = tracks_to_test.reset_index().rename(columns={'index' : 'song_id'})"
   ]
  },
  {
   "cell_type": "markdown",
   "metadata": {},
   "source": [
    "# ksekinaw"
   ]
  },
  {
   "cell_type": "code",
   "execution_count": 6,
   "metadata": {},
   "outputs": [],
   "source": [
    "songs_for_neural = songs.copy()\n",
    "songs_for_neural.set_index('id',inplace=True)"
   ]
  },
  {
   "cell_type": "code",
   "execution_count": 7,
   "metadata": {},
   "outputs": [],
   "source": [
    "def drop_columns(dataframe,to_be_deleted):\n",
    "    dataframe.drop(to_be_deleted, axis=1, inplace=True)\n",
    "to_be_deleted = ['id_artists', 'artists','name','release_date'] "
   ]
  },
  {
   "cell_type": "code",
   "execution_count": 8,
   "metadata": {},
   "outputs": [],
   "source": [
    "songs_for_neural['year'] = pd.DatetimeIndex(songs_for_neural['release_date']).year\n",
    "songs_for_neural['month'] = pd.DatetimeIndex(songs_for_neural['release_date']).month"
   ]
  },
  {
   "cell_type": "code",
   "execution_count": 9,
   "metadata": {},
   "outputs": [],
   "source": [
    "drop_columns(songs_for_neural,to_be_deleted)#delete columns"
   ]
  },
  {
   "cell_type": "code",
   "execution_count": 10,
   "metadata": {},
   "outputs": [],
   "source": [
    "from sklearn import preprocessing\n",
    "\n",
    "def scale_whole_df_except_valence():\n",
    "    valence_only = songs_for_neural['valence']\n",
    "    del songs_for_neural[\"valence\"]\n",
    "\n",
    "    x = songs_for_neural #returns a numpy array\n",
    "    min_max_scaler = preprocessing.MinMaxScaler()\n",
    "    songs_for_neural[songs_for_neural.columns] = min_max_scaler.fit_transform(songs_for_neural[songs_for_neural.columns].to_numpy())\n",
    "    songs_for_neural['valence'] = valence_only\n",
    "# scale_whole_df_except_valence()"
   ]
  },
  {
   "cell_type": "code",
   "execution_count": 11,
   "metadata": {},
   "outputs": [],
   "source": [
    "songs_for_neural[\"key\"] = songs_for_neural[\"key\"].astype(\"category\")\n",
    "songs_for_neural = pd.get_dummies(songs_for_neural, columns=[\"key\"])"
   ]
  },
  {
   "cell_type": "code",
   "execution_count": 12,
   "metadata": {},
   "outputs": [],
   "source": [
    "songs_for_neural.dropna(inplace=True)"
   ]
  },
  {
   "cell_type": "code",
   "execution_count": 13,
   "metadata": {},
   "outputs": [],
   "source": [
    "x = songs_for_neural['valence']\n",
    "del songs_for_neural[\"valence\"]\n",
    "songs_for_neural['valence'] = x "
   ]
  },
  {
   "cell_type": "markdown",
   "metadata": {},
   "source": [
    "# AND SO IT BEGINS"
   ]
  },
  {
   "cell_type": "code",
   "execution_count": 14,
   "metadata": {},
   "outputs": [
    {
     "data": {
      "text/html": [
       "<div>\n",
       "<style scoped>\n",
       "    .dataframe tbody tr th:only-of-type {\n",
       "        vertical-align: middle;\n",
       "    }\n",
       "\n",
       "    .dataframe tbody tr th {\n",
       "        vertical-align: top;\n",
       "    }\n",
       "\n",
       "    .dataframe thead th {\n",
       "        text-align: right;\n",
       "    }\n",
       "</style>\n",
       "<table border=\"1\" class=\"dataframe\">\n",
       "  <thead>\n",
       "    <tr style=\"text-align: right;\">\n",
       "      <th></th>\n",
       "      <th>popularity</th>\n",
       "      <th>duration_ms</th>\n",
       "      <th>explicit</th>\n",
       "      <th>danceability</th>\n",
       "      <th>energy</th>\n",
       "      <th>loudness</th>\n",
       "      <th>mode</th>\n",
       "      <th>speechiness</th>\n",
       "      <th>acousticness</th>\n",
       "      <th>instrumentalness</th>\n",
       "      <th>...</th>\n",
       "      <th>key_3</th>\n",
       "      <th>key_4</th>\n",
       "      <th>key_5</th>\n",
       "      <th>key_6</th>\n",
       "      <th>key_7</th>\n",
       "      <th>key_8</th>\n",
       "      <th>key_9</th>\n",
       "      <th>key_10</th>\n",
       "      <th>key_11</th>\n",
       "      <th>valence</th>\n",
       "    </tr>\n",
       "    <tr>\n",
       "      <th>id</th>\n",
       "      <th></th>\n",
       "      <th></th>\n",
       "      <th></th>\n",
       "      <th></th>\n",
       "      <th></th>\n",
       "      <th></th>\n",
       "      <th></th>\n",
       "      <th></th>\n",
       "      <th></th>\n",
       "      <th></th>\n",
       "      <th></th>\n",
       "      <th></th>\n",
       "      <th></th>\n",
       "      <th></th>\n",
       "      <th></th>\n",
       "      <th></th>\n",
       "      <th></th>\n",
       "      <th></th>\n",
       "      <th></th>\n",
       "      <th></th>\n",
       "      <th></th>\n",
       "    </tr>\n",
       "  </thead>\n",
       "  <tbody>\n",
       "    <tr>\n",
       "      <th>1caThjRCOqnzzMCyWWgl4g</th>\n",
       "      <td>7</td>\n",
       "      <td>256533</td>\n",
       "      <td>0</td>\n",
       "      <td>0.519</td>\n",
       "      <td>0.1290</td>\n",
       "      <td>-13.239</td>\n",
       "      <td>0</td>\n",
       "      <td>0.0889</td>\n",
       "      <td>0.8990</td>\n",
       "      <td>0.000103</td>\n",
       "      <td>...</td>\n",
       "      <td>1</td>\n",
       "      <td>0</td>\n",
       "      <td>0</td>\n",
       "      <td>0</td>\n",
       "      <td>0</td>\n",
       "      <td>0</td>\n",
       "      <td>0</td>\n",
       "      <td>0</td>\n",
       "      <td>0</td>\n",
       "      <td>0.159</td>\n",
       "    </tr>\n",
       "    <tr>\n",
       "      <th>0eDwzWuy2gf1RJzqWl0dkF</th>\n",
       "      <td>48</td>\n",
       "      <td>171573</td>\n",
       "      <td>0</td>\n",
       "      <td>0.578</td>\n",
       "      <td>0.6730</td>\n",
       "      <td>-13.156</td>\n",
       "      <td>1</td>\n",
       "      <td>0.0446</td>\n",
       "      <td>0.0968</td>\n",
       "      <td>0.000083</td>\n",
       "      <td>...</td>\n",
       "      <td>0</td>\n",
       "      <td>0</td>\n",
       "      <td>0</td>\n",
       "      <td>0</td>\n",
       "      <td>1</td>\n",
       "      <td>0</td>\n",
       "      <td>0</td>\n",
       "      <td>0</td>\n",
       "      <td>0</td>\n",
       "      <td>0.721</td>\n",
       "    </tr>\n",
       "    <tr>\n",
       "      <th>6XEnp2meUtAbwIBKMQdRGP</th>\n",
       "      <td>20</td>\n",
       "      <td>261480</td>\n",
       "      <td>0</td>\n",
       "      <td>0.509</td>\n",
       "      <td>0.8410</td>\n",
       "      <td>-4.700</td>\n",
       "      <td>0</td>\n",
       "      <td>0.0355</td>\n",
       "      <td>0.0210</td>\n",
       "      <td>0.002010</td>\n",
       "      <td>...</td>\n",
       "      <td>0</td>\n",
       "      <td>0</td>\n",
       "      <td>0</td>\n",
       "      <td>0</td>\n",
       "      <td>0</td>\n",
       "      <td>0</td>\n",
       "      <td>0</td>\n",
       "      <td>1</td>\n",
       "      <td>0</td>\n",
       "      <td>0.146</td>\n",
       "    </tr>\n",
       "    <tr>\n",
       "      <th>3Ma9JA5xKXTf4Kp9xwM96B</th>\n",
       "      <td>37</td>\n",
       "      <td>80413</td>\n",
       "      <td>0</td>\n",
       "      <td>0.529</td>\n",
       "      <td>0.9610</td>\n",
       "      <td>-7.301</td>\n",
       "      <td>1</td>\n",
       "      <td>0.9040</td>\n",
       "      <td>0.5800</td>\n",
       "      <td>0.000000</td>\n",
       "      <td>...</td>\n",
       "      <td>0</td>\n",
       "      <td>0</td>\n",
       "      <td>0</td>\n",
       "      <td>0</td>\n",
       "      <td>0</td>\n",
       "      <td>1</td>\n",
       "      <td>0</td>\n",
       "      <td>0</td>\n",
       "      <td>0</td>\n",
       "      <td>0.262</td>\n",
       "    </tr>\n",
       "    <tr>\n",
       "      <th>0P22Cc6SQxp8oT15AjE2Th</th>\n",
       "      <td>29</td>\n",
       "      <td>159413</td>\n",
       "      <td>0</td>\n",
       "      <td>0.546</td>\n",
       "      <td>0.5700</td>\n",
       "      <td>-8.975</td>\n",
       "      <td>1</td>\n",
       "      <td>0.0280</td>\n",
       "      <td>0.1630</td>\n",
       "      <td>0.000003</td>\n",
       "      <td>...</td>\n",
       "      <td>0</td>\n",
       "      <td>0</td>\n",
       "      <td>0</td>\n",
       "      <td>0</td>\n",
       "      <td>1</td>\n",
       "      <td>0</td>\n",
       "      <td>0</td>\n",
       "      <td>0</td>\n",
       "      <td>0</td>\n",
       "      <td>0.678</td>\n",
       "    </tr>\n",
       "    <tr>\n",
       "      <th>...</th>\n",
       "      <td>...</td>\n",
       "      <td>...</td>\n",
       "      <td>...</td>\n",
       "      <td>...</td>\n",
       "      <td>...</td>\n",
       "      <td>...</td>\n",
       "      <td>...</td>\n",
       "      <td>...</td>\n",
       "      <td>...</td>\n",
       "      <td>...</td>\n",
       "      <td>...</td>\n",
       "      <td>...</td>\n",
       "      <td>...</td>\n",
       "      <td>...</td>\n",
       "      <td>...</td>\n",
       "      <td>...</td>\n",
       "      <td>...</td>\n",
       "      <td>...</td>\n",
       "      <td>...</td>\n",
       "      <td>...</td>\n",
       "      <td>...</td>\n",
       "    </tr>\n",
       "    <tr>\n",
       "      <th>2kwPxDuqZysDCpxeFPJRIc</th>\n",
       "      <td>17</td>\n",
       "      <td>338560</td>\n",
       "      <td>0</td>\n",
       "      <td>0.766</td>\n",
       "      <td>0.5200</td>\n",
       "      <td>-11.017</td>\n",
       "      <td>1</td>\n",
       "      <td>0.0325</td>\n",
       "      <td>0.7220</td>\n",
       "      <td>0.000330</td>\n",
       "      <td>...</td>\n",
       "      <td>0</td>\n",
       "      <td>0</td>\n",
       "      <td>0</td>\n",
       "      <td>0</td>\n",
       "      <td>0</td>\n",
       "      <td>0</td>\n",
       "      <td>0</td>\n",
       "      <td>0</td>\n",
       "      <td>0</td>\n",
       "      <td>0.922</td>\n",
       "    </tr>\n",
       "    <tr>\n",
       "      <th>73Nwn4BggFD6L81wWTyJmV</th>\n",
       "      <td>2</td>\n",
       "      <td>35507</td>\n",
       "      <td>0</td>\n",
       "      <td>0.662</td>\n",
       "      <td>0.0281</td>\n",
       "      <td>-30.103</td>\n",
       "      <td>0</td>\n",
       "      <td>0.9320</td>\n",
       "      <td>0.8970</td>\n",
       "      <td>0.000000</td>\n",
       "      <td>...</td>\n",
       "      <td>0</td>\n",
       "      <td>0</td>\n",
       "      <td>0</td>\n",
       "      <td>0</td>\n",
       "      <td>0</td>\n",
       "      <td>0</td>\n",
       "      <td>0</td>\n",
       "      <td>0</td>\n",
       "      <td>0</td>\n",
       "      <td>0.345</td>\n",
       "    </tr>\n",
       "    <tr>\n",
       "      <th>7wKAdszeGjLFOatAmhTtLf</th>\n",
       "      <td>4</td>\n",
       "      <td>130218</td>\n",
       "      <td>0</td>\n",
       "      <td>0.410</td>\n",
       "      <td>0.4000</td>\n",
       "      <td>-13.819</td>\n",
       "      <td>0</td>\n",
       "      <td>0.0516</td>\n",
       "      <td>0.7290</td>\n",
       "      <td>0.883000</td>\n",
       "      <td>...</td>\n",
       "      <td>0</td>\n",
       "      <td>0</td>\n",
       "      <td>0</td>\n",
       "      <td>0</td>\n",
       "      <td>0</td>\n",
       "      <td>1</td>\n",
       "      <td>0</td>\n",
       "      <td>0</td>\n",
       "      <td>0</td>\n",
       "      <td>0.393</td>\n",
       "    </tr>\n",
       "    <tr>\n",
       "      <th>0Hb2lKzzpKK4VxwER1fF25</th>\n",
       "      <td>45</td>\n",
       "      <td>236027</td>\n",
       "      <td>0</td>\n",
       "      <td>0.355</td>\n",
       "      <td>0.4450</td>\n",
       "      <td>-10.221</td>\n",
       "      <td>1</td>\n",
       "      <td>0.0280</td>\n",
       "      <td>0.4010</td>\n",
       "      <td>0.000000</td>\n",
       "      <td>...</td>\n",
       "      <td>0</td>\n",
       "      <td>0</td>\n",
       "      <td>0</td>\n",
       "      <td>0</td>\n",
       "      <td>0</td>\n",
       "      <td>1</td>\n",
       "      <td>0</td>\n",
       "      <td>0</td>\n",
       "      <td>0</td>\n",
       "      <td>0.357</td>\n",
       "    </tr>\n",
       "    <tr>\n",
       "      <th>550f6ghBGFXEUf8fTC6UTd</th>\n",
       "      <td>45</td>\n",
       "      <td>252080</td>\n",
       "      <td>0</td>\n",
       "      <td>0.514</td>\n",
       "      <td>0.2960</td>\n",
       "      <td>-15.366</td>\n",
       "      <td>0</td>\n",
       "      <td>0.0255</td>\n",
       "      <td>0.4650</td>\n",
       "      <td>0.000927</td>\n",
       "      <td>...</td>\n",
       "      <td>0</td>\n",
       "      <td>1</td>\n",
       "      <td>0</td>\n",
       "      <td>0</td>\n",
       "      <td>0</td>\n",
       "      <td>0</td>\n",
       "      <td>0</td>\n",
       "      <td>0</td>\n",
       "      <td>0</td>\n",
       "      <td>0.411</td>\n",
       "    </tr>\n",
       "  </tbody>\n",
       "</table>\n",
       "<p>25000 rows × 28 columns</p>\n",
       "</div>"
      ],
      "text/plain": [
       "                        popularity  duration_ms  explicit  danceability  \\\n",
       "id                                                                        \n",
       "1caThjRCOqnzzMCyWWgl4g           7       256533         0         0.519   \n",
       "0eDwzWuy2gf1RJzqWl0dkF          48       171573         0         0.578   \n",
       "6XEnp2meUtAbwIBKMQdRGP          20       261480         0         0.509   \n",
       "3Ma9JA5xKXTf4Kp9xwM96B          37        80413         0         0.529   \n",
       "0P22Cc6SQxp8oT15AjE2Th          29       159413         0         0.546   \n",
       "...                            ...          ...       ...           ...   \n",
       "2kwPxDuqZysDCpxeFPJRIc          17       338560         0         0.766   \n",
       "73Nwn4BggFD6L81wWTyJmV           2        35507         0         0.662   \n",
       "7wKAdszeGjLFOatAmhTtLf           4       130218         0         0.410   \n",
       "0Hb2lKzzpKK4VxwER1fF25          45       236027         0         0.355   \n",
       "550f6ghBGFXEUf8fTC6UTd          45       252080         0         0.514   \n",
       "\n",
       "                        energy  loudness  mode  speechiness  acousticness  \\\n",
       "id                                                                          \n",
       "1caThjRCOqnzzMCyWWgl4g  0.1290   -13.239     0       0.0889        0.8990   \n",
       "0eDwzWuy2gf1RJzqWl0dkF  0.6730   -13.156     1       0.0446        0.0968   \n",
       "6XEnp2meUtAbwIBKMQdRGP  0.8410    -4.700     0       0.0355        0.0210   \n",
       "3Ma9JA5xKXTf4Kp9xwM96B  0.9610    -7.301     1       0.9040        0.5800   \n",
       "0P22Cc6SQxp8oT15AjE2Th  0.5700    -8.975     1       0.0280        0.1630   \n",
       "...                        ...       ...   ...          ...           ...   \n",
       "2kwPxDuqZysDCpxeFPJRIc  0.5200   -11.017     1       0.0325        0.7220   \n",
       "73Nwn4BggFD6L81wWTyJmV  0.0281   -30.103     0       0.9320        0.8970   \n",
       "7wKAdszeGjLFOatAmhTtLf  0.4000   -13.819     0       0.0516        0.7290   \n",
       "0Hb2lKzzpKK4VxwER1fF25  0.4450   -10.221     1       0.0280        0.4010   \n",
       "550f6ghBGFXEUf8fTC6UTd  0.2960   -15.366     0       0.0255        0.4650   \n",
       "\n",
       "                        instrumentalness  ...  key_3  key_4  key_5  key_6  \\\n",
       "id                                        ...                               \n",
       "1caThjRCOqnzzMCyWWgl4g          0.000103  ...      1      0      0      0   \n",
       "0eDwzWuy2gf1RJzqWl0dkF          0.000083  ...      0      0      0      0   \n",
       "6XEnp2meUtAbwIBKMQdRGP          0.002010  ...      0      0      0      0   \n",
       "3Ma9JA5xKXTf4Kp9xwM96B          0.000000  ...      0      0      0      0   \n",
       "0P22Cc6SQxp8oT15AjE2Th          0.000003  ...      0      0      0      0   \n",
       "...                                  ...  ...    ...    ...    ...    ...   \n",
       "2kwPxDuqZysDCpxeFPJRIc          0.000330  ...      0      0      0      0   \n",
       "73Nwn4BggFD6L81wWTyJmV          0.000000  ...      0      0      0      0   \n",
       "7wKAdszeGjLFOatAmhTtLf          0.883000  ...      0      0      0      0   \n",
       "0Hb2lKzzpKK4VxwER1fF25          0.000000  ...      0      0      0      0   \n",
       "550f6ghBGFXEUf8fTC6UTd          0.000927  ...      0      1      0      0   \n",
       "\n",
       "                        key_7  key_8  key_9  key_10  key_11  valence  \n",
       "id                                                                    \n",
       "1caThjRCOqnzzMCyWWgl4g      0      0      0       0       0    0.159  \n",
       "0eDwzWuy2gf1RJzqWl0dkF      1      0      0       0       0    0.721  \n",
       "6XEnp2meUtAbwIBKMQdRGP      0      0      0       1       0    0.146  \n",
       "3Ma9JA5xKXTf4Kp9xwM96B      0      1      0       0       0    0.262  \n",
       "0P22Cc6SQxp8oT15AjE2Th      1      0      0       0       0    0.678  \n",
       "...                       ...    ...    ...     ...     ...      ...  \n",
       "2kwPxDuqZysDCpxeFPJRIc      0      0      0       0       0    0.922  \n",
       "73Nwn4BggFD6L81wWTyJmV      0      0      0       0       0    0.345  \n",
       "7wKAdszeGjLFOatAmhTtLf      0      1      0       0       0    0.393  \n",
       "0Hb2lKzzpKK4VxwER1fF25      0      1      0       0       0    0.357  \n",
       "550f6ghBGFXEUf8fTC6UTd      0      0      0       0       0    0.411  \n",
       "\n",
       "[25000 rows x 28 columns]"
      ]
     },
     "execution_count": 14,
     "metadata": {},
     "output_type": "execute_result"
    }
   ],
   "source": [
    "songs_for_neural"
   ]
  },
  {
   "cell_type": "code",
   "execution_count": 15,
   "metadata": {},
   "outputs": [],
   "source": [
    "songs_for_neural_array = songs_for_neural.values"
   ]
  },
  {
   "cell_type": "code",
   "execution_count": 16,
   "metadata": {},
   "outputs": [],
   "source": [
    "length_of_df_without_valence = len(songs_for_neural_array[0])-1"
   ]
  },
  {
   "cell_type": "code",
   "execution_count": 17,
   "metadata": {},
   "outputs": [],
   "source": [
    "X = songs_for_neural_array[:,0:length_of_df_without_valence]"
   ]
  },
  {
   "cell_type": "code",
   "execution_count": 18,
   "metadata": {},
   "outputs": [],
   "source": [
    "Y = songs_for_neural_array[:,length_of_df_without_valence]"
   ]
  },
  {
   "cell_type": "code",
   "execution_count": 19,
   "metadata": {},
   "outputs": [],
   "source": [
    "from sklearn import preprocessing\n",
    "min_max_scaler = preprocessing.MinMaxScaler()\n",
    "X_scale = min_max_scaler.fit_transform(X)"
   ]
  },
  {
   "cell_type": "code",
   "execution_count": 20,
   "metadata": {},
   "outputs": [
    {
     "name": "stdout",
     "output_type": "stream",
     "text": [
      "(17500, 27) (3750, 27) (3750, 27) (17500,) (3750,) (3750,)\n"
     ]
    }
   ],
   "source": [
    "from sklearn.model_selection import train_test_split\n",
    "X_train, X_val_and_test, Y_train, Y_val_and_test = train_test_split(X_scale, Y, test_size=0.3)\n",
    "X_val, X_test, Y_val, Y_test = train_test_split(X_val_and_test, Y_val_and_test, test_size=0.5)\n",
    "print(X_train.shape, X_val.shape, X_test.shape, Y_train.shape, Y_val.shape, Y_test.shape)"
   ]
  },
  {
   "cell_type": "code",
   "execution_count": 21,
   "metadata": {},
   "outputs": [],
   "source": [
    "from tensorflow.keras.layers.experimental import preprocessing\n",
    "normalizer = preprocessing.Normalization()\n",
    "normalizer.adapt(np.array(X_train))"
   ]
  },
  {
   "cell_type": "code",
   "execution_count": 22,
   "metadata": {},
   "outputs": [],
   "source": [
    "from keras.models import Sequential\n",
    "from keras.layers import Dense"
   ]
  },
  {
   "cell_type": "code",
   "execution_count": 23,
   "metadata": {},
   "outputs": [],
   "source": [
    "from keras.layers import Dropout\n",
    "from keras import regularizers\n",
    "from tensorflow import keras"
   ]
  },
  {
   "cell_type": "code",
   "execution_count": 24,
   "metadata": {},
   "outputs": [],
   "source": [
    "model = Sequential([\n",
    "    normalizer,\n",
    "    Dense(64, activation='relu', input_shape=(27,)),\n",
    "    Dropout(0.3),\n",
    "    Dense(64, activation='relu'),\n",
    "    Dropout(0.3),\n",
    "    Dense(1),\n",
    "])"
   ]
  },
  {
   "cell_type": "code",
   "execution_count": 25,
   "metadata": {},
   "outputs": [],
   "source": [
    "model.compile(optimizer='adam',\n",
    "              loss='mean_absolute_error')"
   ]
  },
  {
   "cell_type": "code",
   "execution_count": 26,
   "metadata": {},
   "outputs": [
    {
     "name": "stdout",
     "output_type": "stream",
     "text": [
      "Epoch 1/100\n",
      "547/547 [==============================] - 1s 2ms/step - loss: 0.2507 - val_loss: 0.1772\n",
      "Epoch 2/100\n",
      "547/547 [==============================] - 1s 1ms/step - loss: 0.1763 - val_loss: 0.1560\n",
      "Epoch 3/100\n",
      "547/547 [==============================] - 1s 1ms/step - loss: 0.1646 - val_loss: 0.1520\n",
      "Epoch 4/100\n",
      "547/547 [==============================] - 1s 1ms/step - loss: 0.1588 - val_loss: 0.1462\n",
      "Epoch 5/100\n",
      "547/547 [==============================] - 1s 1ms/step - loss: 0.1550 - val_loss: 0.1477\n",
      "Epoch 6/100\n",
      "547/547 [==============================] - 1s 1ms/step - loss: 0.1523 - val_loss: 0.1451\n",
      "Epoch 7/100\n",
      "547/547 [==============================] - 1s 1ms/step - loss: 0.1504 - val_loss: 0.1431\n",
      "Epoch 8/100\n",
      "547/547 [==============================] - 1s 1ms/step - loss: 0.1490 - val_loss: 0.1427\n",
      "Epoch 9/100\n",
      "547/547 [==============================] - 1s 1ms/step - loss: 0.1476 - val_loss: 0.1427\n",
      "Epoch 10/100\n",
      "547/547 [==============================] - 1s 1ms/step - loss: 0.1459 - val_loss: 0.1415\n",
      "Epoch 11/100\n",
      "547/547 [==============================] - 1s 1ms/step - loss: 0.1454 - val_loss: 0.1418\n",
      "Epoch 12/100\n",
      "547/547 [==============================] - 1s 1ms/step - loss: 0.1448 - val_loss: 0.1411\n",
      "Epoch 13/100\n",
      "547/547 [==============================] - 1s 1ms/step - loss: 0.1446 - val_loss: 0.1424\n",
      "Epoch 14/100\n",
      "547/547 [==============================] - 1s 1ms/step - loss: 0.1446 - val_loss: 0.1430\n",
      "Epoch 15/100\n",
      "547/547 [==============================] - 1s 1ms/step - loss: 0.1438 - val_loss: 0.1397\n",
      "Epoch 16/100\n",
      "547/547 [==============================] - 1s 1ms/step - loss: 0.1428 - val_loss: 0.1390\n",
      "Epoch 17/100\n",
      "547/547 [==============================] - 1s 1ms/step - loss: 0.1431 - val_loss: 0.1403\n",
      "Epoch 18/100\n",
      "547/547 [==============================] - 1s 1ms/step - loss: 0.1418 - val_loss: 0.1418\n",
      "Epoch 19/100\n",
      "547/547 [==============================] - 1s 1ms/step - loss: 0.1420 - val_loss: 0.1398\n",
      "Epoch 20/100\n",
      "547/547 [==============================] - 1s 1ms/step - loss: 0.1419 - val_loss: 0.1419\n",
      "Epoch 21/100\n",
      "547/547 [==============================] - 1s 1ms/step - loss: 0.1416 - val_loss: 0.1413\n",
      "Epoch 22/100\n",
      "547/547 [==============================] - 1s 1ms/step - loss: 0.1413 - val_loss: 0.1402\n",
      "Epoch 23/100\n",
      "547/547 [==============================] - 1s 1ms/step - loss: 0.1410 - val_loss: 0.1407\n",
      "Epoch 24/100\n",
      "547/547 [==============================] - ETA: 0s - loss: 0.140 - 1s 1ms/step - loss: 0.1409 - val_loss: 0.1391\n",
      "Epoch 25/100\n",
      "547/547 [==============================] - 1s 2ms/step - loss: 0.1403 - val_loss: 0.1413\n",
      "Epoch 26/100\n",
      "547/547 [==============================] - 1s 1ms/step - loss: 0.1398 - val_loss: 0.1428\n",
      "Epoch 27/100\n",
      "547/547 [==============================] - 1s 1ms/step - loss: 0.1404 - val_loss: 0.1382\n",
      "Epoch 28/100\n",
      "547/547 [==============================] - 1s 1ms/step - loss: 0.1396 - val_loss: 0.1381\n",
      "Epoch 29/100\n",
      "547/547 [==============================] - 1s 1ms/step - loss: 0.1394 - val_loss: 0.1391\n",
      "Epoch 30/100\n",
      "547/547 [==============================] - 1s 1ms/step - loss: 0.1393 - val_loss: 0.1388\n",
      "Epoch 31/100\n",
      "547/547 [==============================] - 1s 1ms/step - loss: 0.1396 - val_loss: 0.1399\n",
      "Epoch 32/100\n",
      "547/547 [==============================] - 1s 2ms/step - loss: 0.1390 - val_loss: 0.1398\n",
      "Epoch 33/100\n",
      "547/547 [==============================] - 1s 1ms/step - loss: 0.1390 - val_loss: 0.1418\n",
      "Epoch 34/100\n",
      "547/547 [==============================] - 1s 1ms/step - loss: 0.1386 - val_loss: 0.1402\n",
      "Epoch 35/100\n",
      "547/547 [==============================] - 1s 1ms/step - loss: 0.1384 - val_loss: 0.1389\n",
      "Epoch 36/100\n",
      "547/547 [==============================] - 1s 1ms/step - loss: 0.1385 - val_loss: 0.1386\n",
      "Epoch 37/100\n",
      "547/547 [==============================] - 1s 1ms/step - loss: 0.1384 - val_loss: 0.1381\n",
      "Epoch 38/100\n",
      "547/547 [==============================] - 1s 1ms/step - loss: 0.1381 - val_loss: 0.1376\n",
      "Epoch 39/100\n",
      "547/547 [==============================] - 1s 1ms/step - loss: 0.1378 - val_loss: 0.1407\n",
      "Epoch 40/100\n",
      "547/547 [==============================] - 1s 1ms/step - loss: 0.1379 - val_loss: 0.1374\n",
      "Epoch 41/100\n",
      "547/547 [==============================] - 1s 1ms/step - loss: 0.1380 - val_loss: 0.1375\n",
      "Epoch 42/100\n",
      "547/547 [==============================] - 1s 2ms/step - loss: 0.1380 - val_loss: 0.1370\n",
      "Epoch 43/100\n",
      "547/547 [==============================] - 1s 1ms/step - loss: 0.1372 - val_loss: 0.1402\n",
      "Epoch 44/100\n",
      "547/547 [==============================] - 1s 1ms/step - loss: 0.1378 - val_loss: 0.1389\n",
      "Epoch 45/100\n",
      "547/547 [==============================] - 1s 1ms/step - loss: 0.1371 - val_loss: 0.1406\n",
      "Epoch 46/100\n",
      "547/547 [==============================] - 1s 1ms/step - loss: 0.1371 - val_loss: 0.1388\n",
      "Epoch 47/100\n",
      "547/547 [==============================] - 1s 1ms/step - loss: 0.1372 - val_loss: 0.1372\n",
      "Epoch 48/100\n",
      "547/547 [==============================] - 1s 1ms/step - loss: 0.1371 - val_loss: 0.1383\n",
      "Epoch 49/100\n",
      "547/547 [==============================] - 1s 1ms/step - loss: 0.1362 - val_loss: 0.1396\n",
      "Epoch 50/100\n",
      "547/547 [==============================] - 1s 1ms/step - loss: 0.1370 - val_loss: 0.1390\n",
      "Epoch 51/100\n",
      "547/547 [==============================] - 1s 1ms/step - loss: 0.1367 - val_loss: 0.1393\n",
      "Epoch 52/100\n",
      "547/547 [==============================] - 1s 1ms/step - loss: 0.1366 - val_loss: 0.1399\n",
      "Epoch 53/100\n",
      "547/547 [==============================] - 1s 1ms/step - loss: 0.1365 - val_loss: 0.1382\n",
      "Epoch 54/100\n",
      "547/547 [==============================] - 1s 1ms/step - loss: 0.1367 - val_loss: 0.1384\n",
      "Epoch 55/100\n",
      "547/547 [==============================] - 1s 1ms/step - loss: 0.1363 - val_loss: 0.1394\n",
      "Epoch 56/100\n",
      "547/547 [==============================] - 1s 1ms/step - loss: 0.1357 - val_loss: 0.1379\n",
      "Epoch 57/100\n",
      "547/547 [==============================] - 1s 1ms/step - loss: 0.1364 - val_loss: 0.1380\n"
     ]
    }
   ],
   "source": [
    "early_stop = keras.callbacks.EarlyStopping(monitor='val_loss', patience=15)\n",
    "\n",
    "hist = model.fit(X_train, Y_train,\n",
    "          batch_size=32, epochs=100,\n",
    "          validation_data=(X_val, Y_val),\n",
    "          callbacks=[early_stop])"
   ]
  },
  {
   "cell_type": "code",
   "execution_count": 27,
   "metadata": {},
   "outputs": [
    {
     "data": {
      "text/plain": [
       "0.14018070697784424"
      ]
     },
     "execution_count": 27,
     "metadata": {},
     "output_type": "execute_result"
    }
   ],
   "source": [
    "model.evaluate(X_test, Y_test,verbose=0)"
   ]
  },
  {
   "cell_type": "code",
   "execution_count": 28,
   "metadata": {},
   "outputs": [
    {
     "data": {
      "image/png": "[encoded data removed]",
      "text/plain": [
       "<Figure size 432x288 with 1 Axes>"
      ]
     },
     "metadata": {
      "needs_background": "light"
     },
     "output_type": "display_data"
    }
   ],
   "source": [
    "import matplotlib.pyplot as plt\n",
    "plt.plot(hist.history['loss'])\n",
    "plt.plot(hist.history['val_loss'])\n",
    "plt.title('Model loss')\n",
    "plt.ylabel('Loss')\n",
    "plt.xlabel('Epoch')\n",
    "plt.legend(['Train', 'Val'], loc='upper right')\n",
    "plt.show()"
   ]
  },
  {
   "cell_type": "code",
   "execution_count": 29,
   "metadata": {},
   "outputs": [
    {
     "data": {
      "image/png": "[encoded data removed]",
      "text/plain": [
       "<Figure size 432x288 with 1 Axes>"
      ]
     },
     "metadata": {
      "needs_background": "light"
     },
     "output_type": "display_data"
    }
   ],
   "source": [
    "test_predictions = model.predict(X_test).flatten()\n",
    "\n",
    "a = plt.axes(aspect='equal')\n",
    "plt.scatter(Y_test, test_predictions)\n",
    "plt.xlabel('True Values [MPG]')\n",
    "plt.ylabel('Predictions [MPG]')\n",
    "lims = [0, 1]\n",
    "plt.xlim(lims)\n",
    "plt.ylim(lims)\n",
    "_ = plt.plot(lims, lims)"
   ]
  },
  {
   "cell_type": "markdown",
   "metadata": {},
   "source": [
    "# RNNS "
   ]
  },
  {
   "cell_type": "code",
   "execution_count": 32,
   "metadata": {},
   "outputs": [],
   "source": [
    "from tensorflow.keras.callbacks import EarlyStopping"
   ]
  },
  {
   "cell_type": "code",
   "execution_count": 33,
   "metadata": {},
   "outputs": [],
   "source": [
    "early_stopping = EarlyStopping(\n",
    "    min_delta=0.001, # minimium amount of change to count as an improvement\n",
    "    patience=15, # how many epochs to wait before stopping\n",
    "    restore_best_weights=True,\n",
    ")\n",
    "from tensorflow.keras.layers import LSTM"
   ]
  },
  {
   "cell_type": "code",
   "execution_count": 34,
   "metadata": {},
   "outputs": [
    {
     "ename": "ValueError",
     "evalue": "Input 0 of layer \"lstm\" is incompatible with the layer: expected ndim=3, found ndim=2. Full shape received: (None, 1)",
     "output_type": "error",
     "traceback": [
      "\u001b[1;31m---------------------------------------------------------------------------\u001b[0m",
      "\u001b[1;31mValueError\u001b[0m                                Traceback (most recent call last)",
      "\u001b[1;32mC:\\Users\\3E30~1\\AppData\\Local\\Temp/ipykernel_3260/1857991025.py\u001b[0m in \u001b[0;36m<module>\u001b[1;34m\u001b[0m\n\u001b[0;32m      1\u001b[0m dl_model = keras.Sequential([\n\u001b[1;32m----> 2\u001b[1;33m     \u001b[0mmodel\u001b[0m\u001b[1;33m.\u001b[0m\u001b[0madd\u001b[0m\u001b[1;33m(\u001b[0m\u001b[0mLSTM\u001b[0m\u001b[1;33m(\u001b[0m\u001b[0munits\u001b[0m\u001b[1;33m=\u001b[0m\u001b[1;36m50\u001b[0m\u001b[1;33m,\u001b[0m\u001b[0mreturn_sequences\u001b[0m \u001b[1;33m=\u001b[0m \u001b[1;32mTrue\u001b[0m\u001b[1;33m,\u001b[0m \u001b[0minput_shape\u001b[0m \u001b[1;33m=\u001b[0m \u001b[1;33m(\u001b[0m\u001b[1;36m27\u001b[0m\u001b[1;33m,\u001b[0m\u001b[1;33m)\u001b[0m\u001b[1;33m)\u001b[0m\u001b[1;33m)\u001b[0m\u001b[1;33m,\u001b[0m\u001b[1;33m\u001b[0m\u001b[1;33m\u001b[0m\u001b[0m\n\u001b[0m\u001b[0;32m      3\u001b[0m     \u001b[0mmodel\u001b[0m\u001b[1;33m.\u001b[0m\u001b[0madd\u001b[0m\u001b[1;33m(\u001b[0m\u001b[0mLSTM\u001b[0m\u001b[1;33m(\u001b[0m\u001b[0munits\u001b[0m\u001b[1;33m=\u001b[0m\u001b[1;36m50\u001b[0m\u001b[1;33m,\u001b[0m\u001b[0mreturn_sequences\u001b[0m \u001b[1;33m=\u001b[0m \u001b[1;32mFalse\u001b[0m\u001b[1;33m)\u001b[0m\u001b[1;33m)\u001b[0m\u001b[1;33m,\u001b[0m\u001b[1;33m\u001b[0m\u001b[1;33m\u001b[0m\u001b[0m\n\u001b[0;32m      4\u001b[0m     \u001b[0mmodel\u001b[0m\u001b[1;33m.\u001b[0m\u001b[0madd\u001b[0m\u001b[1;33m(\u001b[0m\u001b[0mDense\u001b[0m\u001b[1;33m(\u001b[0m\u001b[0munits\u001b[0m\u001b[1;33m=\u001b[0m\u001b[1;36m25\u001b[0m\u001b[1;33m)\u001b[0m\u001b[1;33m)\u001b[0m\u001b[1;33m,\u001b[0m\u001b[1;33m\u001b[0m\u001b[1;33m\u001b[0m\u001b[0m\n\u001b[0;32m      5\u001b[0m     \u001b[0mmodel\u001b[0m\u001b[1;33m.\u001b[0m\u001b[0madd\u001b[0m\u001b[1;33m(\u001b[0m\u001b[0mDense\u001b[0m\u001b[1;33m(\u001b[0m\u001b[0munits\u001b[0m\u001b[1;33m=\u001b[0m\u001b[1;36m1\u001b[0m\u001b[1;33m)\u001b[0m\u001b[1;33m)\u001b[0m\u001b[1;33m,\u001b[0m\u001b[1;33m\u001b[0m\u001b[1;33m\u001b[0m\u001b[0m\n",
      "\u001b[1;32m~\\AppData\\Local\\Programs\\Python\\Python39\\lib\\site-packages\\tensorflow\\python\\training\\tracking\\base.py\u001b[0m in \u001b[0;36m_method_wrapper\u001b[1;34m(self, *args, **kwargs)\u001b[0m\n\u001b[0;32m    528\u001b[0m     \u001b[0mself\u001b[0m\u001b[1;33m.\u001b[0m\u001b[0m_self_setattr_tracking\u001b[0m \u001b[1;33m=\u001b[0m \u001b[1;32mFalse\u001b[0m  \u001b[1;31m# pylint: disable=protected-access\u001b[0m\u001b[1;33m\u001b[0m\u001b[1;33m\u001b[0m\u001b[0m\n\u001b[0;32m    529\u001b[0m     \u001b[1;32mtry\u001b[0m\u001b[1;33m:\u001b[0m\u001b[1;33m\u001b[0m\u001b[1;33m\u001b[0m\u001b[0m\n\u001b[1;32m--> 530\u001b[1;33m       \u001b[0mresult\u001b[0m \u001b[1;33m=\u001b[0m \u001b[0mmethod\u001b[0m\u001b[1;33m(\u001b[0m\u001b[0mself\u001b[0m\u001b[1;33m,\u001b[0m \u001b[1;33m*\u001b[0m\u001b[0margs\u001b[0m\u001b[1;33m,\u001b[0m \u001b[1;33m**\u001b[0m\u001b[0mkwargs\u001b[0m\u001b[1;33m)\u001b[0m\u001b[1;33m\u001b[0m\u001b[1;33m\u001b[0m\u001b[0m\n\u001b[0m\u001b[0;32m    531\u001b[0m     \u001b[1;32mfinally\u001b[0m\u001b[1;33m:\u001b[0m\u001b[1;33m\u001b[0m\u001b[1;33m\u001b[0m\u001b[0m\n\u001b[0;32m    532\u001b[0m       \u001b[0mself\u001b[0m\u001b[1;33m.\u001b[0m\u001b[0m_self_setattr_tracking\u001b[0m \u001b[1;33m=\u001b[0m \u001b[0mprevious_value\u001b[0m  \u001b[1;31m# pylint: disable=protected-access\u001b[0m\u001b[1;33m\u001b[0m\u001b[1;33m\u001b[0m\u001b[0m\n",
      "\u001b[1;32m~\\AppData\\Local\\Programs\\Python\\Python39\\lib\\site-packages\\keras\\utils\\traceback_utils.py\u001b[0m in \u001b[0;36merror_handler\u001b[1;34m(*args, **kwargs)\u001b[0m\n\u001b[0;32m     65\u001b[0m     \u001b[1;32mexcept\u001b[0m \u001b[0mException\u001b[0m \u001b[1;32mas\u001b[0m \u001b[0me\u001b[0m\u001b[1;33m:\u001b[0m  \u001b[1;31m# pylint: disable=broad-except\u001b[0m\u001b[1;33m\u001b[0m\u001b[1;33m\u001b[0m\u001b[0m\n\u001b[0;32m     66\u001b[0m       \u001b[0mfiltered_tb\u001b[0m \u001b[1;33m=\u001b[0m \u001b[0m_process_traceback_frames\u001b[0m\u001b[1;33m(\u001b[0m\u001b[0me\u001b[0m\u001b[1;33m.\u001b[0m\u001b[0m__traceback__\u001b[0m\u001b[1;33m)\u001b[0m\u001b[1;33m\u001b[0m\u001b[1;33m\u001b[0m\u001b[0m\n\u001b[1;32m---> 67\u001b[1;33m       \u001b[1;32mraise\u001b[0m \u001b[0me\u001b[0m\u001b[1;33m.\u001b[0m\u001b[0mwith_traceback\u001b[0m\u001b[1;33m(\u001b[0m\u001b[0mfiltered_tb\u001b[0m\u001b[1;33m)\u001b[0m \u001b[1;32mfrom\u001b[0m \u001b[1;32mNone\u001b[0m\u001b[1;33m\u001b[0m\u001b[1;33m\u001b[0m\u001b[0m\n\u001b[0m\u001b[0;32m     68\u001b[0m     \u001b[1;32mfinally\u001b[0m\u001b[1;33m:\u001b[0m\u001b[1;33m\u001b[0m\u001b[1;33m\u001b[0m\u001b[0m\n\u001b[0;32m     69\u001b[0m       \u001b[1;32mdel\u001b[0m \u001b[0mfiltered_tb\u001b[0m\u001b[1;33m\u001b[0m\u001b[1;33m\u001b[0m\u001b[0m\n",
      "\u001b[1;32m~\\AppData\\Local\\Programs\\Python\\Python39\\lib\\site-packages\\keras\\engine\\input_spec.py\u001b[0m in \u001b[0;36massert_input_compatibility\u001b[1;34m(input_spec, inputs, layer_name)\u001b[0m\n\u001b[0;32m    211\u001b[0m       \u001b[0mndim\u001b[0m \u001b[1;33m=\u001b[0m \u001b[0mshape\u001b[0m\u001b[1;33m.\u001b[0m\u001b[0mrank\u001b[0m\u001b[1;33m\u001b[0m\u001b[1;33m\u001b[0m\u001b[0m\n\u001b[0;32m    212\u001b[0m       \u001b[1;32mif\u001b[0m \u001b[0mndim\u001b[0m \u001b[1;33m!=\u001b[0m \u001b[0mspec\u001b[0m\u001b[1;33m.\u001b[0m\u001b[0mndim\u001b[0m\u001b[1;33m:\u001b[0m\u001b[1;33m\u001b[0m\u001b[1;33m\u001b[0m\u001b[0m\n\u001b[1;32m--> 213\u001b[1;33m         raise ValueError(f'Input {input_index} of layer \"{layer_name}\" '\n\u001b[0m\u001b[0;32m    214\u001b[0m                          \u001b[1;34m'is incompatible with the layer: '\u001b[0m\u001b[1;33m\u001b[0m\u001b[1;33m\u001b[0m\u001b[0m\n\u001b[0;32m    215\u001b[0m                          \u001b[1;34mf'expected ndim={spec.ndim}, found ndim={ndim}. '\u001b[0m\u001b[1;33m\u001b[0m\u001b[1;33m\u001b[0m\u001b[0m\n",
      "\u001b[1;31mValueError\u001b[0m: Input 0 of layer \"lstm\" is incompatible with the layer: expected ndim=3, found ndim=2. Full shape received: (None, 1)"
     ]
    }
   ],
   "source": [
    "dl_model = keras.Sequential([\n",
    "    model.add(LSTM(units=50,return_sequences = True, input_shape = (27,))),\n",
    "    model.add(LSTM(units=50,return_sequences = False)),\n",
    "    model.add(Dense(units=25)),\n",
    "    model.add(Dense(units=1)),\n",
    "    model.compile(optimizer='adam',loss ='mean_squared_error',metrics=['accuracy']) \n",
    "])"
   ]
  },
  {
   "cell_type": "code",
   "execution_count": null,
   "metadata": {},
   "outputs": [],
   "source": [
    "history = dl_model.fit(\n",
    "    X_train, Y_train,\n",
    "    validation_data=(X_val, Y_val),\n",
    "    batch_size=32,\n",
    "    epochs=100,\n",
    "    callbacks=[early_stopping], # put your callbacks in a list\n",
    "    verbose=1,  # turn off training log\n",
    ")\n"
   ]
  },
  {
   "cell_type": "code",
   "execution_count": null,
   "metadata": {},
   "outputs": [],
   "source": [
    "φ"
   ]
  },
  {
   "cell_type": "markdown",
   "metadata": {},
   "source": [
    "# Neural second approach"
   ]
  },
  {
   "cell_type": "code",
   "execution_count": 125,
   "metadata": {},
   "outputs": [],
   "source": [
    "from tensorflow import keras\n",
    "from tensorflow.keras import layers\n",
    "from tensorflow.keras.callbacks import EarlyStopping\n",
    "from sklearn.ensemble import RandomForestRegressor\n",
    "from sklearn.metrics import mean_absolute_error"
   ]
  },
  {
   "cell_type": "code",
   "execution_count": 133,
   "metadata": {},
   "outputs": [],
   "source": [
    "from keras.callbacks import ReduceLROnPlateau\n",
    "\n",
    "reduce_lr = ReduceLROnPlateau(monitor='val_loss', factor=0.2,\n",
    "                              patience=10, min_lr=0.01)"
   ]
  },
  {
   "cell_type": "code",
   "execution_count": 183,
   "metadata": {},
   "outputs": [],
   "source": [
    "from keras.callbacks import ModelCheckpoint\n",
    "\n",
    "checkpoint_name = 'Weights\\Weights-{epoch:03d}--{val_loss:.5f}.hdf5' \n",
    "\n",
    "checkpoint = ModelCheckpoint(checkpoint_name, monitor='val_loss', verbose = 1, save_best_only = True, mode ='auto')\n",
    "callbacks_list = [checkpoint]\n"
   ]
  },
  {
   "cell_type": "code",
   "execution_count": null,
   "metadata": {},
   "outputs": [],
   "source": [
    "    # layers.BatchNormalization(),\n",
    "    # model.add(layers.Dense(64, input_shape=(27,))),\n",
    "    # model.add(layers.LeakyReLU(alpha=0.3)),\n",
    "    # layers.Dropout(rate=0.3),\n",
    "    # layers.BatchNormalization(),\n",
    "    # model.add(layers.Dense(64)),\n",
    "    # model.add(layers.LeakyReLU(alpha=0.3)),\n",
    "    # model.add(layers.Dropout(rate=0.15)),\n",
    "    \n",
    "    # layers.Dense(1, activation='sigmoid'),"
   ]
  },
  {
   "cell_type": "code",
   "execution_count": null,
   "metadata": {},
   "outputs": [],
   "source": []
  },
  {
   "cell_type": "code",
   "execution_count": 189,
   "metadata": {},
   "outputs": [
    {
     "name": "stdout",
     "output_type": "stream",
     "text": [
      "Epoch 1/100\n",
      "547/547 [==============================] - 1s 2ms/step - loss: 0.1496 - val_loss: 0.1265\n",
      "Epoch 2/100\n",
      "547/547 [==============================] - 1s 2ms/step - loss: 0.1312 - val_loss: 0.1252\n",
      "Epoch 3/100\n",
      "547/547 [==============================] - 1s 2ms/step - loss: 0.1270 - val_loss: 0.1223\n",
      "Epoch 4/100\n",
      "547/547 [==============================] - 1s 2ms/step - loss: 0.1253 - val_loss: 0.1207\n",
      "Epoch 5/100\n",
      "547/547 [==============================] - 1s 2ms/step - loss: 0.1242 - val_loss: 0.1191\n",
      "Epoch 6/100\n",
      "547/547 [==============================] - 1s 2ms/step - loss: 0.1229 - val_loss: 0.1187\n",
      "Epoch 7/100\n",
      "547/547 [==============================] - 1s 2ms/step - loss: 0.1220 - val_loss: 0.1181\n",
      "Epoch 8/100\n",
      "547/547 [==============================] - 1s 2ms/step - loss: 0.1206 - val_loss: 0.1181\n",
      "Epoch 9/100\n",
      "547/547 [==============================] - 1s 1ms/step - loss: 0.1214 - val_loss: 0.1174\n",
      "Epoch 10/100\n",
      "547/547 [==============================] - 1s 1ms/step - loss: 0.1206 - val_loss: 0.1182\n",
      "Epoch 11/100\n",
      "547/547 [==============================] - 1s 1ms/step - loss: 0.1199 - val_loss: 0.1170\n",
      "Epoch 12/100\n",
      "547/547 [==============================] - 1s 1ms/step - loss: 0.1196 - val_loss: 0.1170\n",
      "Epoch 13/100\n",
      "547/547 [==============================] - 1s 1ms/step - loss: 0.1191 - val_loss: 0.1165\n",
      "Epoch 14/100\n",
      "547/547 [==============================] - 1s 1ms/step - loss: 0.1181 - val_loss: 0.1164\n",
      "Epoch 15/100\n",
      "547/547 [==============================] - 1s 2ms/step - loss: 0.1183 - val_loss: 0.1161\n",
      "Epoch 16/100\n",
      "547/547 [==============================] - 1s 2ms/step - loss: 0.1181 - val_loss: 0.1160\n",
      "Epoch 17/100\n",
      "547/547 [==============================] - 1s 1ms/step - loss: 0.1172 - val_loss: 0.1160\n",
      "Epoch 18/100\n",
      "547/547 [==============================] - 1s 1ms/step - loss: 0.1169 - val_loss: 0.1156\n",
      "Epoch 19/100\n",
      "547/547 [==============================] - 1s 2ms/step - loss: 0.1175 - val_loss: 0.1162\n",
      "Epoch 20/100\n",
      "547/547 [==============================] - 1s 2ms/step - loss: 0.1164 - val_loss: 0.1151\n",
      "Epoch 21/100\n",
      "547/547 [==============================] - 1s 1ms/step - loss: 0.1170 - val_loss: 0.1150\n",
      "Epoch 22/100\n",
      "547/547 [==============================] - 1s 2ms/step - loss: 0.1164 - val_loss: 0.1148\n",
      "Epoch 23/100\n",
      "547/547 [==============================] - 1s 1ms/step - loss: 0.1160 - val_loss: 0.1149\n",
      "Epoch 24/100\n",
      "547/547 [==============================] - 1s 1ms/step - loss: 0.1170 - val_loss: 0.1159\n",
      "Epoch 25/100\n",
      "547/547 [==============================] - 1s 1ms/step - loss: 0.1164 - val_loss: 0.1160\n",
      "Epoch 26/100\n",
      "547/547 [==============================] - 1s 2ms/step - loss: 0.1157 - val_loss: 0.1153\n",
      "Epoch 27/100\n",
      "547/547 [==============================] - 1s 1ms/step - loss: 0.1169 - val_loss: 0.1143\n",
      "Epoch 28/100\n",
      "547/547 [==============================] - 1s 1ms/step - loss: 0.1159 - val_loss: 0.1147\n",
      "Epoch 29/100\n",
      "547/547 [==============================] - 1s 1ms/step - loss: 0.1152 - val_loss: 0.1140\n",
      "Epoch 30/100\n",
      "547/547 [==============================] - 1s 1ms/step - loss: 0.1148 - val_loss: 0.1145\n",
      "Epoch 31/100\n",
      "547/547 [==============================] - 1s 2ms/step - loss: 0.1156 - val_loss: 0.1145\n",
      "Epoch 32/100\n",
      "547/547 [==============================] - ETA: 0s - loss: 0.114 - 1s 1ms/step - loss: 0.1148 - val_loss: 0.1149\n",
      "Epoch 33/100\n",
      "547/547 [==============================] - 1s 2ms/step - loss: 0.1154 - val_loss: 0.1152\n",
      "Epoch 34/100\n",
      "547/547 [==============================] - 1s 2ms/step - loss: 0.1145 - val_loss: 0.1145\n",
      "Epoch 35/100\n",
      "547/547 [==============================] - 1s 2ms/step - loss: 0.1145 - val_loss: 0.1148\n",
      "Epoch 36/100\n",
      "547/547 [==============================] - 1s 2ms/step - loss: 0.1145 - val_loss: 0.1148\n",
      "Epoch 37/100\n",
      "547/547 [==============================] - 1s 2ms/step - loss: 0.1143 - val_loss: 0.1142\n"
     ]
    }
   ],
   "source": [
    "early_stopping = EarlyStopping(\n",
    "    min_delta=0.001, # minimium amount of change to count as an improvement\n",
    "    patience=15, # how many epochs to wait before stopping\n",
    "    restore_best_weights=True,\n",
    ")\n",
    "\n",
    "\n",
    "dl_model = keras.Sequential([\n",
    "    layers.BatchNormalization(),\n",
    "    layers.Dense(64, activation='relu', input_shape=(27,)),\n",
    "    layers.Dropout(rate=0.15),\n",
    "    layers.BatchNormalization(),\n",
    "    layers.Dense(64, activation='relu'),    \n",
    "    layers.Dense(1, activation='sigmoid'),\n",
    "])\n",
    "\n",
    "dl_model.compile(\n",
    "    optimizer=\"adam\",\n",
    "    loss=\"mae\",\n",
    ")\n",
    "\n",
    "history = dl_model.fit(\n",
    "    X_train, Y_train,\n",
    "    validation_data=(X_val, Y_val),\n",
    "    batch_size=32,\n",
    "    epochs=100,\n",
    "    callbacks=[early_stopping], # put your callbacks in a list\n",
    "    verbose=1,  # turn off training log\n",
    ")\n",
    "\n"
   ]
  },
  {
   "cell_type": "code",
   "execution_count": 190,
   "metadata": {},
   "outputs": [
    {
     "name": "stdout",
     "output_type": "stream",
     "text": [
      "Minimum validation loss: 0.11400499939918518\n"
     ]
    },
    {
     "data": {
      "image/png": "[encoded data removed]",
      "text/plain": [
       "<Figure size 432x288 with 1 Axes>"
      ]
     },
     "metadata": {
      "needs_background": "light"
     },
     "output_type": "display_data"
    }
   ],
   "source": [
    "history_df = pd.DataFrame(history.history)\n",
    "history_df.loc[:, ['loss', 'val_loss']].plot();\n",
    "print(\"Minimum validation loss: {}\".format(history_df['val_loss'].min()))"
   ]
  },
  {
   "cell_type": "code",
   "execution_count": 191,
   "metadata": {},
   "outputs": [
    {
     "data": {
      "text/plain": [
       "0.11353887617588043"
      ]
     },
     "execution_count": 191,
     "metadata": {},
     "output_type": "execute_result"
    }
   ],
   "source": [
    "model.evaluate(X_test, Y_test, verbose=0)"
   ]
  }
 ],
 "metadata": {
  "interpreter": {
   "hash": "a1c048be7b072d6dd25b9ac428dc1fb9f8714e6b09effa99acd4035ec8dbeb08"
  },
  "kernelspec": {
   "display_name": "Python 3.9.0 64-bit (system)",
   "language": "python",
   "name": "python3"
  },
  "language_info": {
   "codemirror_mode": {
    "name": "ipython",
    "version": 3
   },
   "file_extension": ".py",
   "mimetype": "text/x-python",
   "name": "python",
   "nbconvert_exporter": "python",
   "pygments_lexer": "ipython3",
   "version": "3.9.0"
  },
  "orig_nbformat": 4
 },
 "nbformat": 4,
 "nbformat_minor": 2
}

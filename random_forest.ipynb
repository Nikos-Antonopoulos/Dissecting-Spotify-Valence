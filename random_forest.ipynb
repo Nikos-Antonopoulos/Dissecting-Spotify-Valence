{
 "cells": [
  {
   "cell_type": "code",
   "execution_count": 1,
   "metadata": {},
   "outputs": [],
   "source": [
    "import numpy as np\n",
    "import pandas as pd\n",
    "\n",
    "songs=pd.read_csv('data/tracks.csv')\n",
    "songs=songs.sample(25000)"
   ]
  },
  {
   "cell_type": "code",
   "execution_count": 2,
   "metadata": {},
   "outputs": [],
   "source": [
    "songs_for_dec_trees = songs.copy() \n",
    "songs_for_dec_trees.set_index('id',inplace=True)"
   ]
  },
  {
   "cell_type": "code",
   "execution_count": 3,
   "metadata": {},
   "outputs": [],
   "source": [
    "def drop_columns(dataframe,to_be_deleted):\n",
    "    dataframe.drop(to_be_deleted, axis=1, inplace=True)\n",
    "to_be_deleted = ['id_artists', 'release_date','artists','name'] "
   ]
  },
  {
   "cell_type": "code",
   "execution_count": 4,
   "metadata": {},
   "outputs": [],
   "source": [
    "# songs_for_dec_trees['release_date'] = pd.to_datetime(songs_for_dec_trees['release_date'], errors='coerce')\n",
    "songs_for_dec_trees['year'] = pd.DatetimeIndex(songs_for_dec_trees['release_date']).year\n",
    "songs_for_dec_trees['month'] = pd.DatetimeIndex(songs_for_dec_trees['release_date']).month"
   ]
  },
  {
   "cell_type": "code",
   "execution_count": 5,
   "metadata": {},
   "outputs": [],
   "source": [
    "drop_columns(songs_for_dec_trees,to_be_deleted)#delete columns"
   ]
  },
  {
   "cell_type": "code",
   "execution_count": 6,
   "metadata": {},
   "outputs": [],
   "source": [
    "from sklearn import preprocessing\n",
    "\n",
    "def scale_whole_df_except_valence():\n",
    "    valence_only = songs_for_dec_trees['valence']\n",
    "    del songs_for_dec_trees[\"valence\"]\n",
    "\n",
    "    x = songs_for_dec_trees #returns a numpy array\n",
    "    min_max_scaler = preprocessing.MinMaxScaler()\n",
    "    songs_for_dec_trees[songs_for_dec_trees.columns] = min_max_scaler.fit_transform(songs_for_dec_trees[songs_for_dec_trees.columns].to_numpy())\n",
    "    songs_for_dec_trees['valence'] = valence_only\n",
    "scale_whole_df_except_valence()"
   ]
  },
  {
   "cell_type": "code",
   "execution_count": 7,
   "metadata": {},
   "outputs": [
    {
     "data": {
      "text/html": [
       "<div>\n",
       "<style scoped>\n",
       "    .dataframe tbody tr th:only-of-type {\n",
       "        vertical-align: middle;\n",
       "    }\n",
       "\n",
       "    .dataframe tbody tr th {\n",
       "        vertical-align: top;\n",
       "    }\n",
       "\n",
       "    .dataframe thead th {\n",
       "        text-align: right;\n",
       "    }\n",
       "</style>\n",
       "<table border=\"1\" class=\"dataframe\">\n",
       "  <thead>\n",
       "    <tr style=\"text-align: right;\">\n",
       "      <th></th>\n",
       "      <th>popularity</th>\n",
       "      <th>duration_ms</th>\n",
       "      <th>explicit</th>\n",
       "      <th>danceability</th>\n",
       "      <th>energy</th>\n",
       "      <th>loudness</th>\n",
       "      <th>mode</th>\n",
       "      <th>speechiness</th>\n",
       "      <th>acousticness</th>\n",
       "      <th>instrumentalness</th>\n",
       "      <th>...</th>\n",
       "      <th>key_0.18181818181818182</th>\n",
       "      <th>key_0.2727272727272727</th>\n",
       "      <th>key_0.36363636363636365</th>\n",
       "      <th>key_0.4545454545454546</th>\n",
       "      <th>key_0.5454545454545454</th>\n",
       "      <th>key_0.6363636363636364</th>\n",
       "      <th>key_0.7272727272727273</th>\n",
       "      <th>key_0.8181818181818182</th>\n",
       "      <th>key_0.9090909090909092</th>\n",
       "      <th>key_1.0</th>\n",
       "    </tr>\n",
       "    <tr>\n",
       "      <th>id</th>\n",
       "      <th></th>\n",
       "      <th></th>\n",
       "      <th></th>\n",
       "      <th></th>\n",
       "      <th></th>\n",
       "      <th></th>\n",
       "      <th></th>\n",
       "      <th></th>\n",
       "      <th></th>\n",
       "      <th></th>\n",
       "      <th></th>\n",
       "      <th></th>\n",
       "      <th></th>\n",
       "      <th></th>\n",
       "      <th></th>\n",
       "      <th></th>\n",
       "      <th></th>\n",
       "      <th></th>\n",
       "      <th></th>\n",
       "      <th></th>\n",
       "      <th></th>\n",
       "    </tr>\n",
       "  </thead>\n",
       "  <tbody>\n",
       "    <tr>\n",
       "      <th>2U1ucjQui6SBjirCgqqcud</th>\n",
       "      <td>0.56</td>\n",
       "      <td>0.040805</td>\n",
       "      <td>0.0</td>\n",
       "      <td>0.492886</td>\n",
       "      <td>0.490</td>\n",
       "      <td>0.836027</td>\n",
       "      <td>1.0</td>\n",
       "      <td>0.079051</td>\n",
       "      <td>0.661647</td>\n",
       "      <td>0.000067</td>\n",
       "      <td>...</td>\n",
       "      <td>0</td>\n",
       "      <td>0</td>\n",
       "      <td>0</td>\n",
       "      <td>1</td>\n",
       "      <td>0</td>\n",
       "      <td>0</td>\n",
       "      <td>0</td>\n",
       "      <td>0</td>\n",
       "      <td>0</td>\n",
       "      <td>0</td>\n",
       "    </tr>\n",
       "    <tr>\n",
       "      <th>0vNDwA6xPhlWI72akZdAWW</th>\n",
       "      <td>0.01</td>\n",
       "      <td>0.038001</td>\n",
       "      <td>0.0</td>\n",
       "      <td>0.476626</td>\n",
       "      <td>0.138</td>\n",
       "      <td>0.720856</td>\n",
       "      <td>1.0</td>\n",
       "      <td>0.113519</td>\n",
       "      <td>0.994980</td>\n",
       "      <td>0.000005</td>\n",
       "      <td>...</td>\n",
       "      <td>0</td>\n",
       "      <td>1</td>\n",
       "      <td>0</td>\n",
       "      <td>0</td>\n",
       "      <td>0</td>\n",
       "      <td>0</td>\n",
       "      <td>0</td>\n",
       "      <td>0</td>\n",
       "      <td>0</td>\n",
       "      <td>0</td>\n",
       "    </tr>\n",
       "    <tr>\n",
       "      <th>42nIs6Yh26PZ3E26YobANa</th>\n",
       "      <td>0.38</td>\n",
       "      <td>0.014980</td>\n",
       "      <td>0.0</td>\n",
       "      <td>0.622967</td>\n",
       "      <td>0.416</td>\n",
       "      <td>0.805216</td>\n",
       "      <td>0.0</td>\n",
       "      <td>0.557276</td>\n",
       "      <td>0.119478</td>\n",
       "      <td>0.000000</td>\n",
       "      <td>...</td>\n",
       "      <td>0</td>\n",
       "      <td>0</td>\n",
       "      <td>0</td>\n",
       "      <td>1</td>\n",
       "      <td>0</td>\n",
       "      <td>0</td>\n",
       "      <td>0</td>\n",
       "      <td>0</td>\n",
       "      <td>0</td>\n",
       "      <td>0</td>\n",
       "    </tr>\n",
       "    <tr>\n",
       "      <th>5zOVcfUnFakO1GTXwEtTSz</th>\n",
       "      <td>0.01</td>\n",
       "      <td>0.024967</td>\n",
       "      <td>0.0</td>\n",
       "      <td>0.458333</td>\n",
       "      <td>0.891</td>\n",
       "      <td>0.919403</td>\n",
       "      <td>1.0</td>\n",
       "      <td>0.112487</td>\n",
       "      <td>0.255020</td>\n",
       "      <td>0.000165</td>\n",
       "      <td>...</td>\n",
       "      <td>0</td>\n",
       "      <td>0</td>\n",
       "      <td>0</td>\n",
       "      <td>0</td>\n",
       "      <td>0</td>\n",
       "      <td>0</td>\n",
       "      <td>0</td>\n",
       "      <td>1</td>\n",
       "      <td>0</td>\n",
       "      <td>0</td>\n",
       "    </tr>\n",
       "    <tr>\n",
       "      <th>2K5CxepRrAWH6GeF1PRkoN</th>\n",
       "      <td>0.44</td>\n",
       "      <td>0.038740</td>\n",
       "      <td>0.0</td>\n",
       "      <td>0.765244</td>\n",
       "      <td>0.882</td>\n",
       "      <td>0.859814</td>\n",
       "      <td>1.0</td>\n",
       "      <td>0.034572</td>\n",
       "      <td>0.135542</td>\n",
       "      <td>0.268806</td>\n",
       "      <td>...</td>\n",
       "      <td>0</td>\n",
       "      <td>0</td>\n",
       "      <td>0</td>\n",
       "      <td>0</td>\n",
       "      <td>0</td>\n",
       "      <td>1</td>\n",
       "      <td>0</td>\n",
       "      <td>0</td>\n",
       "      <td>0</td>\n",
       "      <td>0</td>\n",
       "    </tr>\n",
       "  </tbody>\n",
       "</table>\n",
       "<p>5 rows × 28 columns</p>\n",
       "</div>"
      ],
      "text/plain": [
       "                        popularity  duration_ms  explicit  danceability  \\\n",
       "id                                                                        \n",
       "2U1ucjQui6SBjirCgqqcud        0.56     0.040805       0.0      0.492886   \n",
       "0vNDwA6xPhlWI72akZdAWW        0.01     0.038001       0.0      0.476626   \n",
       "42nIs6Yh26PZ3E26YobANa        0.38     0.014980       0.0      0.622967   \n",
       "5zOVcfUnFakO1GTXwEtTSz        0.01     0.024967       0.0      0.458333   \n",
       "2K5CxepRrAWH6GeF1PRkoN        0.44     0.038740       0.0      0.765244   \n",
       "\n",
       "                        energy  loudness  mode  speechiness  acousticness  \\\n",
       "id                                                                          \n",
       "2U1ucjQui6SBjirCgqqcud   0.490  0.836027   1.0     0.079051      0.661647   \n",
       "0vNDwA6xPhlWI72akZdAWW   0.138  0.720856   1.0     0.113519      0.994980   \n",
       "42nIs6Yh26PZ3E26YobANa   0.416  0.805216   0.0     0.557276      0.119478   \n",
       "5zOVcfUnFakO1GTXwEtTSz   0.891  0.919403   1.0     0.112487      0.255020   \n",
       "2K5CxepRrAWH6GeF1PRkoN   0.882  0.859814   1.0     0.034572      0.135542   \n",
       "\n",
       "                        instrumentalness  ...  key_0.18181818181818182  \\\n",
       "id                                        ...                            \n",
       "2U1ucjQui6SBjirCgqqcud          0.000067  ...                        0   \n",
       "0vNDwA6xPhlWI72akZdAWW          0.000005  ...                        0   \n",
       "42nIs6Yh26PZ3E26YobANa          0.000000  ...                        0   \n",
       "5zOVcfUnFakO1GTXwEtTSz          0.000165  ...                        0   \n",
       "2K5CxepRrAWH6GeF1PRkoN          0.268806  ...                        0   \n",
       "\n",
       "                        key_0.2727272727272727  key_0.36363636363636365  \\\n",
       "id                                                                        \n",
       "2U1ucjQui6SBjirCgqqcud                       0                        0   \n",
       "0vNDwA6xPhlWI72akZdAWW                       1                        0   \n",
       "42nIs6Yh26PZ3E26YobANa                       0                        0   \n",
       "5zOVcfUnFakO1GTXwEtTSz                       0                        0   \n",
       "2K5CxepRrAWH6GeF1PRkoN                       0                        0   \n",
       "\n",
       "                        key_0.4545454545454546  key_0.5454545454545454  \\\n",
       "id                                                                       \n",
       "2U1ucjQui6SBjirCgqqcud                       1                       0   \n",
       "0vNDwA6xPhlWI72akZdAWW                       0                       0   \n",
       "42nIs6Yh26PZ3E26YobANa                       1                       0   \n",
       "5zOVcfUnFakO1GTXwEtTSz                       0                       0   \n",
       "2K5CxepRrAWH6GeF1PRkoN                       0                       0   \n",
       "\n",
       "                        key_0.6363636363636364  key_0.7272727272727273  \\\n",
       "id                                                                       \n",
       "2U1ucjQui6SBjirCgqqcud                       0                       0   \n",
       "0vNDwA6xPhlWI72akZdAWW                       0                       0   \n",
       "42nIs6Yh26PZ3E26YobANa                       0                       0   \n",
       "5zOVcfUnFakO1GTXwEtTSz                       0                       0   \n",
       "2K5CxepRrAWH6GeF1PRkoN                       1                       0   \n",
       "\n",
       "                        key_0.8181818181818182  key_0.9090909090909092  \\\n",
       "id                                                                       \n",
       "2U1ucjQui6SBjirCgqqcud                       0                       0   \n",
       "0vNDwA6xPhlWI72akZdAWW                       0                       0   \n",
       "42nIs6Yh26PZ3E26YobANa                       0                       0   \n",
       "5zOVcfUnFakO1GTXwEtTSz                       1                       0   \n",
       "2K5CxepRrAWH6GeF1PRkoN                       0                       0   \n",
       "\n",
       "                        key_1.0  \n",
       "id                               \n",
       "2U1ucjQui6SBjirCgqqcud        0  \n",
       "0vNDwA6xPhlWI72akZdAWW        0  \n",
       "42nIs6Yh26PZ3E26YobANa        0  \n",
       "5zOVcfUnFakO1GTXwEtTSz        0  \n",
       "2K5CxepRrAWH6GeF1PRkoN        0  \n",
       "\n",
       "[5 rows x 28 columns]"
      ]
     },
     "execution_count": 7,
     "metadata": {},
     "output_type": "execute_result"
    }
   ],
   "source": [
    "songs_for_dec_trees[\"key\"] = songs_for_dec_trees[\"key\"].astype(\"category\")\n",
    "songs_for_dec_trees = pd.get_dummies(songs_for_dec_trees, columns=[\"key\"])\n",
    "songs_for_dec_trees.head()"
   ]
  },
  {
   "cell_type": "code",
   "execution_count": 8,
   "metadata": {},
   "outputs": [],
   "source": [
    "songs_for_dec_trees.dropna(inplace=True)"
   ]
  },
  {
   "cell_type": "code",
   "execution_count": 17,
   "metadata": {},
   "outputs": [
    {
     "data": {
      "text/plain": [
       "28"
      ]
     },
     "execution_count": 17,
     "metadata": {},
     "output_type": "execute_result"
    }
   ],
   "source": [
    "len(songs_for_dec_trees.columns)"
   ]
  },
  {
   "cell_type": "code",
   "execution_count": 9,
   "metadata": {},
   "outputs": [],
   "source": [
    "starting_key = 0 \n",
    "for i in range (16, 28):\n",
    "    songs_for_dec_trees = songs_for_dec_trees.rename(columns={songs_for_dec_trees.columns[i]: 'key_%d' % starting_key})\n",
    "    starting_key = starting_key  + 1 "
   ]
  },
  {
   "cell_type": "code",
   "execution_count": 10,
   "metadata": {},
   "outputs": [],
   "source": [
    "x = songs_for_dec_trees['valence']\n",
    "del songs_for_dec_trees[\"valence\"]\n",
    "songs_for_dec_trees['valence'] = x"
   ]
  },
  {
   "cell_type": "code",
   "execution_count": null,
   "metadata": {},
   "outputs": [],
   "source": []
  },
  {
   "cell_type": "markdown",
   "metadata": {},
   "source": [
    "# IT BEGINS"
   ]
  },
  {
   "cell_type": "code",
   "execution_count": 11,
   "metadata": {},
   "outputs": [],
   "source": [
    "import numpy as np\n",
    "labels = np.array(songs_for_dec_trees['valence'])\n",
    "features= songs_for_dec_trees.drop('valence', axis = 1)\n",
    "feature_list = list(features.columns)\n",
    "features = np.array(features)"
   ]
  },
  {
   "cell_type": "code",
   "execution_count": 12,
   "metadata": {},
   "outputs": [],
   "source": [
    "from sklearn.model_selection import train_test_split\n",
    "# Split the data into training and testing sets\n",
    "train_features, test_features, train_labels, test_labels = train_test_split(features, labels, test_size = 0.25, random_state = 42)"
   ]
  },
  {
   "cell_type": "code",
   "execution_count": 13,
   "metadata": {},
   "outputs": [],
   "source": [
    "from sklearn.ensemble import RandomForestRegressor\n",
    "rf = RandomForestRegressor(random_state = 42)"
   ]
  },
  {
   "cell_type": "code",
   "execution_count": 14,
   "metadata": {},
   "outputs": [],
   "source": [
    "from sklearn.model_selection import RandomizedSearchCV\n",
    "n_estimators = [int(x) for x in np.linspace(start = 100, stop = 2000, num = 10)]\n",
    "max_features = ['auto', 'sqrt']\n",
    "max_depth = [int(x) for x in np.linspace(10, 100, num = 11)]\n",
    "max_depth.append(None)\n",
    "min_samples_split = [2, 5]\n",
    "min_samples_leaf = [1, 2, 4]\n",
    "\n",
    "random_grid = {'n_estimators': n_estimators,\n",
    "               'max_features': max_features,\n",
    "               'max_depth': max_depth,\n",
    "               'min_samples_split': min_samples_split,\n",
    "               'min_samples_leaf': min_samples_leaf,\n",
    "               }\n"
   ]
  },
  {
   "cell_type": "code",
   "execution_count": 15,
   "metadata": {},
   "outputs": [],
   "source": [
    "# Use the random grid to search for best hyperparameters\n",
    "# First create the base model to tune\n",
    "rf = RandomForestRegressor()\n",
    "# Random search of parameters, using 3 fold cross validation, \n",
    "# search across 100 different combinations, and use all available cores\n",
    "rf_random = RandomizedSearchCV(estimator = rf, param_distributions = random_grid, n_iter = 50, cv = 3, verbose=50, random_state=42, n_jobs = -1)\n",
    "# Fit the random search model"
   ]
  },
  {
   "cell_type": "code",
   "execution_count": 16,
   "metadata": {},
   "outputs": [],
   "source": [
    "# rf_random.fit(train_features, train_labels)"
   ]
  },
  {
   "cell_type": "code",
   "execution_count": 17,
   "metadata": {},
   "outputs": [],
   "source": [
    "# rf_random.best_params_\n"
   ]
  },
  {
   "cell_type": "markdown",
   "metadata": {},
   "source": [
    "GRID SEARCH"
   ]
  },
  {
   "cell_type": "code",
   "execution_count": 18,
   "metadata": {},
   "outputs": [],
   "source": [
    "from sklearn.model_selection import GridSearchCV\n",
    "\n",
    "param_grid = {\n",
    "    'bootstrap': [True],\n",
    "    'max_depth': [60,70,82,90],\n",
    "    'min_samples_leaf': [1,2],\n",
    "    'min_samples_split': [2],\n",
    "    'n_estimators': [900, 944, 1200,  1500]\n",
    "}\n",
    "# Create a based model\n",
    "rf = RandomForestRegressor()\n",
    "# Instantiate the grid search model\n",
    "grid_search = GridSearchCV(estimator = rf, param_grid = param_grid, \n",
    "                          cv = 3, n_jobs = -1, verbose = 2)"
   ]
  },
  {
   "cell_type": "markdown",
   "metadata": {},
   "source": [
    "34 lepta 96 fits"
   ]
  },
  {
   "cell_type": "code",
   "execution_count": 19,
   "metadata": {},
   "outputs": [
    {
     "name": "stdout",
     "output_type": "stream",
     "text": [
      "Fitting 3 folds for each of 32 candidates, totalling 96 fits\n"
     ]
    },
    {
     "name": "stderr",
     "output_type": "stream",
     "text": [
      "exception calling callback for <Future at 0x1c2cff489d0 state=finished raised TerminatedWorkerError>\n",
      "Traceback (most recent call last):\n",
      "  File \"C:\\Users\\Νίκος\\AppData\\Local\\Programs\\Python\\Python39\\lib\\site-packages\\joblib\\externals\\loky\\_base.py\", line 625, in _invoke_callbacks\n",
      "    callback(self)\n",
      "  File \"C:\\Users\\Νίκος\\AppData\\Local\\Programs\\Python\\Python39\\lib\\site-packages\\joblib\\parallel.py\", line 359, in __call__\n",
      "    self.parallel.dispatch_next()\n",
      "  File \"C:\\Users\\Νίκος\\AppData\\Local\\Programs\\Python\\Python39\\lib\\site-packages\\joblib\\parallel.py\", line 794, in dispatch_next\n",
      "    if not self.dispatch_one_batch(self._original_iterator):\n",
      "  File \"C:\\Users\\Νίκος\\AppData\\Local\\Programs\\Python\\Python39\\lib\\site-packages\\joblib\\parallel.py\", line 861, in dispatch_one_batch\n",
      "    self._dispatch(tasks)\n",
      "  File \"C:\\Users\\Νίκος\\AppData\\Local\\Programs\\Python\\Python39\\lib\\site-packages\\joblib\\parallel.py\", line 779, in _dispatch\n",
      "    job = self._backend.apply_async(batch, callback=cb)\n",
      "  File \"C:\\Users\\Νίκος\\AppData\\Local\\Programs\\Python\\Python39\\lib\\site-packages\\joblib\\_parallel_backends.py\", line 531, in apply_async\n",
      "    future = self._workers.submit(SafeFunction(func))\n",
      "  File \"C:\\Users\\Νίκος\\AppData\\Local\\Programs\\Python\\Python39\\lib\\site-packages\\joblib\\externals\\loky\\reusable_executor.py\", line 177, in submit\n",
      "    return super(_ReusablePoolExecutor, self).submit(\n",
      "  File \"C:\\Users\\Νίκος\\AppData\\Local\\Programs\\Python\\Python39\\lib\\site-packages\\joblib\\externals\\loky\\process_executor.py\", line 1115, in submit\n",
      "    raise self._flags.broken\n",
      "joblib.externals.loky.process_executor.TerminatedWorkerError: A worker process managed by the executor was unexpectedly terminated. This could be caused by a segmentation fault while calling the function or by an excessive memory usage causing the Operating System to kill the worker.\n",
      "\n"
     ]
    }
   ],
   "source": [
    "grid_search.fit(train_features, train_labels)\n"
   ]
  },
  {
   "cell_type": "code",
   "execution_count": null,
   "metadata": {},
   "outputs": [
    {
     "data": {
      "text/plain": [
       "{'bootstrap': True,\n",
       " 'max_depth': 60,\n",
       " 'min_samples_leaf': 1,\n",
       " 'min_samples_split': 2,\n",
       " 'n_estimators': 1500}"
      ]
     },
     "execution_count": 20,
     "metadata": {},
     "output_type": "execute_result"
    }
   ],
   "source": [
    "grid_search.best_params_"
   ]
  },
  {
   "cell_type": "code",
   "execution_count": null,
   "metadata": {},
   "outputs": [
    {
     "data": {
      "text/plain": [
       "RandomForestRegressor(max_depth=60, n_estimators=1500)"
      ]
     },
     "execution_count": 21,
     "metadata": {},
     "output_type": "execute_result"
    }
   ],
   "source": [
    "grid_search.best_estimator_"
   ]
  },
  {
   "cell_type": "code",
   "execution_count": null,
   "metadata": {},
   "outputs": [],
   "source": [
    "\n",
    "final_model = grid_search.best_estimator_\n",
    "\n"
   ]
  },
  {
   "cell_type": "markdown",
   "metadata": {},
   "source": [
    "EVALUATE"
   ]
  },
  {
   "cell_type": "markdown",
   "metadata": {},
   "source": [
    "MAX DEPTH: 82 \n",
    "MIN SAMPLES: 1 \n",
    "MIN SPLIT: 2 \n",
    "N_ESTIMATORS: 944 "
   ]
  },
  {
   "cell_type": "code",
   "execution_count": null,
   "metadata": {},
   "outputs": [],
   "source": [
    "from sklearn.metrics import mean_absolute_error\n",
    "def evaluate(model,test_features,test_labels):\n",
    "    pred_labels = model.predict(test_features)\n",
    "    errors = abs(pred_labels-test_labels)\n",
    "    mape  = 100*np.mean(errors/test_labels)\n",
    "    accuracy = 100 - mape \n",
    "    # print('mean_absolute_errorrrrr',mean_absolute_error(test_labels, pred_labels))\n",
    "\n",
    "    print('Mean Absolut Error: {:0.4f} degrees.'.format(np.mean(errors)))\n",
    "    \n",
    "    return accuracy"
   ]
  },
  {
   "cell_type": "code",
   "execution_count": null,
   "metadata": {},
   "outputs": [
    {
     "name": "stdout",
     "output_type": "stream",
     "text": [
      "mean_absolute_errorrrrr 0.10644103748586665\n",
      "Model Performance\n",
      "Average Error: 0.1064 degrees.\n",
      "Accuracy = nan%.\n"
     ]
    },
    {
     "name": "stderr",
     "output_type": "stream",
     "text": [
      "C:\\Users\\3E30~1\\AppData\\Local\\Temp/ipykernel_25800/2364971662.py:5: RuntimeWarning: divide by zero encountered in true_divide\n",
      "  mape  = 100*np.mean(errors/test_labels)\n",
      "C:\\Users\\3E30~1\\AppData\\Local\\Temp/ipykernel_25800/2364971662.py:5: RuntimeWarning: invalid value encountered in true_divide\n",
      "  mape  = 100*np.mean(errors/test_labels)\n"
     ]
    }
   ],
   "source": [
    "grid_final_accuracy = evaluate(final_model, test_features, test_labels)\n",
    "\n"
   ]
  },
  {
   "cell_type": "code",
   "execution_count": null,
   "metadata": {},
   "outputs": [
    {
     "ename": "NameError",
     "evalue": "name 'best_random' is not defined",
     "output_type": "error",
     "traceback": [
      "\u001b[1;31m---------------------------------------------------------------------------\u001b[0m",
      "\u001b[1;31mNameError\u001b[0m                                 Traceback (most recent call last)",
      "\u001b[1;32mC:\\Users\\3E30~1\\AppData\\Local\\Temp/ipykernel_27472/3606791546.py\u001b[0m in \u001b[0;36m<module>\u001b[1;34m\u001b[0m\n\u001b[1;32m----> 1\u001b[1;33m \u001b[0maccuracy\u001b[0m \u001b[1;33m=\u001b[0m \u001b[0mevaluate\u001b[0m\u001b[1;33m(\u001b[0m\u001b[0mbest_random\u001b[0m\u001b[1;33m,\u001b[0m \u001b[0mtest_features\u001b[0m\u001b[1;33m,\u001b[0m \u001b[0mtest_labels\u001b[0m\u001b[1;33m)\u001b[0m\u001b[1;33m\u001b[0m\u001b[1;33m\u001b[0m\u001b[0m\n\u001b[0m",
      "\u001b[1;31mNameError\u001b[0m: name 'best_random' is not defined"
     ]
    }
   ],
   "source": [
    "best_random = rf_random.best_estimator_\n",
    "accuracy = evaluate(best_random, test_features, test_labels)"
   ]
  },
  {
   "cell_type": "code",
   "execution_count": null,
   "metadata": {},
   "outputs": [],
   "source": [
    "rf_random.best_estimator_.feature_importances_"
   ]
  },
  {
   "cell_type": "code",
   "execution_count": null,
   "metadata": {},
   "outputs": [],
   "source": [
    "features = songs_for_dec_trees.columns\n",
    "features=features.tolist()\n",
    "features.remove('valence')\n",
    "\n",
    "importances = final_model.feature_importances_\n",
    "indices = np.argsort(importances)"
   ]
  },
  {
   "cell_type": "code",
   "execution_count": null,
   "metadata": {},
   "outputs": [],
   "source": [
    "indices = indices[8:]"
   ]
  },
  {
   "cell_type": "code",
   "execution_count": null,
   "metadata": {},
   "outputs": [
    {
     "data": {
      "image/png": "[encoded data removed]",
      "text/plain": [
       "<Figure size 432x288 with 1 Axes>"
      ]
     },
     "metadata": {
      "needs_background": "light"
     },
     "output_type": "display_data"
    }
   ],
   "source": [
    "import matplotlib.pyplot as plt\n",
    "plt.title('Feature Importances')\n",
    "plt.barh(range(len(indices)), importances[indices], color='b', align='center')\n",
    "plt.yticks(range(len(indices)), [features[i] for i in indices])\n",
    "plt.xlabel('Relative Importance')\n",
    "plt.show() "
   ]
  }
 ],
 "metadata": {
  "interpreter": {
   "hash": "a1c048be7b072d6dd25b9ac428dc1fb9f8714e6b09effa99acd4035ec8dbeb08"
  },
  "kernelspec": {
   "display_name": "Python 3.9.0 64-bit (system)",
   "language": "python",
   "name": "python3"
  },
  "language_info": {
   "codemirror_mode": {
    "name": "ipython",
    "version": 3
   },
   "file_extension": ".py",
   "mimetype": "text/x-python",
   "name": "python",
   "nbconvert_exporter": "python",
   "pygments_lexer": "ipython3",
   "version": "3.9.0"
  },
  "orig_nbformat": 4
 },
 "nbformat": 4,
 "nbformat_minor": 2
}

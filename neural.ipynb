{
 "cells": [
  {
   "cell_type": "code",
   "execution_count": 286,
   "metadata": {},
   "outputs": [],
   "source": [
    "import numpy as np\n",
    "import pandas as pd\n",
    "from scipy import stats\n",
    "\n",
    "songs=pd.read_csv('data/tracks.csv')\n",
    "songs=songs.sample(n=25000)"
   ]
  },
  {
   "cell_type": "markdown",
   "metadata": {},
   "source": [
    "# Obtaining louris songs"
   ]
  },
  {
   "cell_type": "code",
   "execution_count": 287,
   "metadata": {},
   "outputs": [],
   "source": [
    "import spotipy\n",
    "from spotipy.oauth2 import SpotifyClientCredentials\n",
    "import re \n",
    "import matplotlib.pyplot as plt\n",
    "import seaborn as sns\n",
    "import statsmodels.formula.api as smf \n",
    "from plotnine import *"
   ]
  },
  {
   "cell_type": "code",
   "execution_count": 288,
   "metadata": {},
   "outputs": [],
   "source": [
    "client_id = \"7b172c47988b4d2da267ad35a2a23d88\"\n",
    "client_secret = \"bd980144781a436ca841e0d54187cd74\"\n",
    "client_credentials_manager = SpotifyClientCredentials(client_id=client_id, client_secret=client_secret)\n",
    "sp = spotipy.Spotify(client_credentials_manager=client_credentials_manager) "
   ]
  },
  {
   "cell_type": "code",
   "execution_count": 289,
   "metadata": {},
   "outputs": [],
   "source": [
    "# with open('data/spotify_ids.txt', 'r') as f:\n",
    "#     all_track_ids = [line.strip() for line in f]"
   ]
  },
  {
   "cell_type": "code",
   "execution_count": 290,
   "metadata": {},
   "outputs": [],
   "source": [
    "# tracks = tracks_to_test.reset_index().rename(columns={'index' : 'song_id'})"
   ]
  },
  {
   "cell_type": "markdown",
   "metadata": {},
   "source": [
    "# ksekinaw"
   ]
  },
  {
   "cell_type": "code",
   "execution_count": 291,
   "metadata": {},
   "outputs": [],
   "source": [
    "songs_for_neural = songs.copy()\n",
    "songs_for_neural.set_index('id',inplace=True)"
   ]
  },
  {
   "cell_type": "code",
   "execution_count": 292,
   "metadata": {},
   "outputs": [],
   "source": [
    "def drop_columns(dataframe,to_be_deleted):\n",
    "    dataframe.drop(to_be_deleted, axis=1, inplace=True)\n",
    "to_be_deleted = ['id_artists', 'artists','name','release_date'] "
   ]
  },
  {
   "cell_type": "code",
   "execution_count": 293,
   "metadata": {},
   "outputs": [],
   "source": [
    "songs_for_neural['year'] = pd.DatetimeIndex(songs_for_neural['release_date']).year\n",
    "songs_for_neural['month'] = pd.DatetimeIndex(songs_for_neural['release_date']).month"
   ]
  },
  {
   "cell_type": "code",
   "execution_count": 294,
   "metadata": {},
   "outputs": [],
   "source": [
    "drop_columns(songs_for_neural,to_be_deleted)#delete columns"
   ]
  },
  {
   "cell_type": "code",
   "execution_count": 295,
   "metadata": {},
   "outputs": [],
   "source": [
    "from sklearn import preprocessing\n",
    "\n",
    "def scale_whole_df_except_valence():\n",
    "    valence_only = songs_for_neural['valence']\n",
    "    del songs_for_neural[\"valence\"]\n",
    "\n",
    "    x = songs_for_neural #returns a numpy array\n",
    "    min_max_scaler = preprocessing.MinMaxScaler()\n",
    "    songs_for_neural[songs_for_neural.columns] = min_max_scaler.fit_transform(songs_for_neural[songs_for_neural.columns].to_numpy())\n",
    "    songs_for_neural['valence'] = valence_only\n",
    "# scale_whole_df_except_valence()"
   ]
  },
  {
   "cell_type": "code",
   "execution_count": 296,
   "metadata": {},
   "outputs": [],
   "source": [
    "songs_for_neural[\"key\"] = songs_for_neural[\"key\"].astype(\"category\")\n",
    "songs_for_neural = pd.get_dummies(songs_for_neural, columns=[\"key\"])"
   ]
  },
  {
   "cell_type": "code",
   "execution_count": 297,
   "metadata": {},
   "outputs": [],
   "source": [
    "songs_for_neural.dropna(inplace=True)"
   ]
  },
  {
   "cell_type": "code",
   "execution_count": 298,
   "metadata": {},
   "outputs": [],
   "source": [
    "x = songs_for_neural['valence']\n",
    "del songs_for_neural[\"valence\"]\n",
    "songs_for_neural['valence'] = x "
   ]
  },
  {
   "cell_type": "markdown",
   "metadata": {},
   "source": [
    "# AND SO IT BEGINS"
   ]
  },
  {
   "cell_type": "code",
   "execution_count": 299,
   "metadata": {},
   "outputs": [
    {
     "data": {
      "text/html": [
       "<div>\n",
       "<style scoped>\n",
       "    .dataframe tbody tr th:only-of-type {\n",
       "        vertical-align: middle;\n",
       "    }\n",
       "\n",
       "    .dataframe tbody tr th {\n",
       "        vertical-align: top;\n",
       "    }\n",
       "\n",
       "    .dataframe thead th {\n",
       "        text-align: right;\n",
       "    }\n",
       "</style>\n",
       "<table border=\"1\" class=\"dataframe\">\n",
       "  <thead>\n",
       "    <tr style=\"text-align: right;\">\n",
       "      <th></th>\n",
       "      <th>popularity</th>\n",
       "      <th>duration_ms</th>\n",
       "      <th>explicit</th>\n",
       "      <th>danceability</th>\n",
       "      <th>energy</th>\n",
       "      <th>loudness</th>\n",
       "      <th>mode</th>\n",
       "      <th>speechiness</th>\n",
       "      <th>acousticness</th>\n",
       "      <th>instrumentalness</th>\n",
       "      <th>...</th>\n",
       "      <th>key_3</th>\n",
       "      <th>key_4</th>\n",
       "      <th>key_5</th>\n",
       "      <th>key_6</th>\n",
       "      <th>key_7</th>\n",
       "      <th>key_8</th>\n",
       "      <th>key_9</th>\n",
       "      <th>key_10</th>\n",
       "      <th>key_11</th>\n",
       "      <th>valence</th>\n",
       "    </tr>\n",
       "    <tr>\n",
       "      <th>id</th>\n",
       "      <th></th>\n",
       "      <th></th>\n",
       "      <th></th>\n",
       "      <th></th>\n",
       "      <th></th>\n",
       "      <th></th>\n",
       "      <th></th>\n",
       "      <th></th>\n",
       "      <th></th>\n",
       "      <th></th>\n",
       "      <th></th>\n",
       "      <th></th>\n",
       "      <th></th>\n",
       "      <th></th>\n",
       "      <th></th>\n",
       "      <th></th>\n",
       "      <th></th>\n",
       "      <th></th>\n",
       "      <th></th>\n",
       "      <th></th>\n",
       "      <th></th>\n",
       "    </tr>\n",
       "  </thead>\n",
       "  <tbody>\n",
       "    <tr>\n",
       "      <th>4Fbc2m4RjOrr6DNmil9byE</th>\n",
       "      <td>8</td>\n",
       "      <td>307107</td>\n",
       "      <td>0</td>\n",
       "      <td>0.583</td>\n",
       "      <td>0.542</td>\n",
       "      <td>-12.644</td>\n",
       "      <td>0</td>\n",
       "      <td>0.0339</td>\n",
       "      <td>0.6010</td>\n",
       "      <td>0.001500</td>\n",
       "      <td>...</td>\n",
       "      <td>0</td>\n",
       "      <td>0</td>\n",
       "      <td>1</td>\n",
       "      <td>0</td>\n",
       "      <td>0</td>\n",
       "      <td>0</td>\n",
       "      <td>0</td>\n",
       "      <td>0</td>\n",
       "      <td>0</td>\n",
       "      <td>0.913</td>\n",
       "    </tr>\n",
       "    <tr>\n",
       "      <th>733ceORqYo0LjPaqkXzmGc</th>\n",
       "      <td>36</td>\n",
       "      <td>242000</td>\n",
       "      <td>0</td>\n",
       "      <td>0.639</td>\n",
       "      <td>0.764</td>\n",
       "      <td>-8.158</td>\n",
       "      <td>1</td>\n",
       "      <td>0.0326</td>\n",
       "      <td>0.0462</td>\n",
       "      <td>0.002150</td>\n",
       "      <td>...</td>\n",
       "      <td>0</td>\n",
       "      <td>0</td>\n",
       "      <td>0</td>\n",
       "      <td>0</td>\n",
       "      <td>0</td>\n",
       "      <td>0</td>\n",
       "      <td>1</td>\n",
       "      <td>0</td>\n",
       "      <td>0</td>\n",
       "      <td>0.857</td>\n",
       "    </tr>\n",
       "    <tr>\n",
       "      <th>3crQSTvz94iEd2BbKg1kLx</th>\n",
       "      <td>20</td>\n",
       "      <td>32095</td>\n",
       "      <td>0</td>\n",
       "      <td>0.774</td>\n",
       "      <td>0.379</td>\n",
       "      <td>-14.964</td>\n",
       "      <td>1</td>\n",
       "      <td>0.5520</td>\n",
       "      <td>0.8010</td>\n",
       "      <td>0.000000</td>\n",
       "      <td>...</td>\n",
       "      <td>0</td>\n",
       "      <td>0</td>\n",
       "      <td>0</td>\n",
       "      <td>0</td>\n",
       "      <td>0</td>\n",
       "      <td>0</td>\n",
       "      <td>0</td>\n",
       "      <td>0</td>\n",
       "      <td>0</td>\n",
       "      <td>0.609</td>\n",
       "    </tr>\n",
       "    <tr>\n",
       "      <th>7KTZXoyFcP6EUccLPnmn7j</th>\n",
       "      <td>15</td>\n",
       "      <td>149238</td>\n",
       "      <td>0</td>\n",
       "      <td>0.735</td>\n",
       "      <td>0.906</td>\n",
       "      <td>-12.144</td>\n",
       "      <td>0</td>\n",
       "      <td>0.0572</td>\n",
       "      <td>0.4330</td>\n",
       "      <td>0.000000</td>\n",
       "      <td>...</td>\n",
       "      <td>0</td>\n",
       "      <td>0</td>\n",
       "      <td>0</td>\n",
       "      <td>0</td>\n",
       "      <td>0</td>\n",
       "      <td>0</td>\n",
       "      <td>1</td>\n",
       "      <td>0</td>\n",
       "      <td>0</td>\n",
       "      <td>0.938</td>\n",
       "    </tr>\n",
       "    <tr>\n",
       "      <th>1h8sss0Ckkashw62PRs4UF</th>\n",
       "      <td>29</td>\n",
       "      <td>213211</td>\n",
       "      <td>0</td>\n",
       "      <td>0.410</td>\n",
       "      <td>0.238</td>\n",
       "      <td>-13.903</td>\n",
       "      <td>0</td>\n",
       "      <td>0.0436</td>\n",
       "      <td>0.6080</td>\n",
       "      <td>0.000003</td>\n",
       "      <td>...</td>\n",
       "      <td>0</td>\n",
       "      <td>0</td>\n",
       "      <td>0</td>\n",
       "      <td>1</td>\n",
       "      <td>0</td>\n",
       "      <td>0</td>\n",
       "      <td>0</td>\n",
       "      <td>0</td>\n",
       "      <td>0</td>\n",
       "      <td>0.293</td>\n",
       "    </tr>\n",
       "    <tr>\n",
       "      <th>...</th>\n",
       "      <td>...</td>\n",
       "      <td>...</td>\n",
       "      <td>...</td>\n",
       "      <td>...</td>\n",
       "      <td>...</td>\n",
       "      <td>...</td>\n",
       "      <td>...</td>\n",
       "      <td>...</td>\n",
       "      <td>...</td>\n",
       "      <td>...</td>\n",
       "      <td>...</td>\n",
       "      <td>...</td>\n",
       "      <td>...</td>\n",
       "      <td>...</td>\n",
       "      <td>...</td>\n",
       "      <td>...</td>\n",
       "      <td>...</td>\n",
       "      <td>...</td>\n",
       "      <td>...</td>\n",
       "      <td>...</td>\n",
       "      <td>...</td>\n",
       "    </tr>\n",
       "    <tr>\n",
       "      <th>6OLqAJGyNLeksAQnEQCIz2</th>\n",
       "      <td>14</td>\n",
       "      <td>271133</td>\n",
       "      <td>0</td>\n",
       "      <td>0.767</td>\n",
       "      <td>0.745</td>\n",
       "      <td>-7.822</td>\n",
       "      <td>1</td>\n",
       "      <td>0.0539</td>\n",
       "      <td>0.1050</td>\n",
       "      <td>0.000000</td>\n",
       "      <td>...</td>\n",
       "      <td>0</td>\n",
       "      <td>1</td>\n",
       "      <td>0</td>\n",
       "      <td>0</td>\n",
       "      <td>0</td>\n",
       "      <td>0</td>\n",
       "      <td>0</td>\n",
       "      <td>0</td>\n",
       "      <td>0</td>\n",
       "      <td>0.914</td>\n",
       "    </tr>\n",
       "    <tr>\n",
       "      <th>28CDZ57gYDikYi2KZ7cznW</th>\n",
       "      <td>47</td>\n",
       "      <td>352773</td>\n",
       "      <td>0</td>\n",
       "      <td>0.561</td>\n",
       "      <td>0.351</td>\n",
       "      <td>-16.977</td>\n",
       "      <td>0</td>\n",
       "      <td>0.0364</td>\n",
       "      <td>0.5350</td>\n",
       "      <td>0.000001</td>\n",
       "      <td>...</td>\n",
       "      <td>0</td>\n",
       "      <td>0</td>\n",
       "      <td>0</td>\n",
       "      <td>0</td>\n",
       "      <td>0</td>\n",
       "      <td>0</td>\n",
       "      <td>0</td>\n",
       "      <td>0</td>\n",
       "      <td>0</td>\n",
       "      <td>0.387</td>\n",
       "    </tr>\n",
       "    <tr>\n",
       "      <th>6vOJHoP0bNnqwm92aEFpNm</th>\n",
       "      <td>13</td>\n",
       "      <td>134933</td>\n",
       "      <td>0</td>\n",
       "      <td>0.510</td>\n",
       "      <td>0.308</td>\n",
       "      <td>-13.515</td>\n",
       "      <td>1</td>\n",
       "      <td>0.0255</td>\n",
       "      <td>0.4310</td>\n",
       "      <td>0.001010</td>\n",
       "      <td>...</td>\n",
       "      <td>0</td>\n",
       "      <td>0</td>\n",
       "      <td>0</td>\n",
       "      <td>0</td>\n",
       "      <td>0</td>\n",
       "      <td>0</td>\n",
       "      <td>0</td>\n",
       "      <td>0</td>\n",
       "      <td>1</td>\n",
       "      <td>0.440</td>\n",
       "    </tr>\n",
       "    <tr>\n",
       "      <th>64yTh2P1pFAfjkovnSmR2E</th>\n",
       "      <td>6</td>\n",
       "      <td>371252</td>\n",
       "      <td>1</td>\n",
       "      <td>0.344</td>\n",
       "      <td>0.819</td>\n",
       "      <td>-8.210</td>\n",
       "      <td>1</td>\n",
       "      <td>0.0632</td>\n",
       "      <td>0.1460</td>\n",
       "      <td>0.001970</td>\n",
       "      <td>...</td>\n",
       "      <td>0</td>\n",
       "      <td>0</td>\n",
       "      <td>0</td>\n",
       "      <td>0</td>\n",
       "      <td>0</td>\n",
       "      <td>0</td>\n",
       "      <td>1</td>\n",
       "      <td>0</td>\n",
       "      <td>0</td>\n",
       "      <td>0.536</td>\n",
       "    </tr>\n",
       "    <tr>\n",
       "      <th>4QNdvS38mhYW6C62uyWD5e</th>\n",
       "      <td>60</td>\n",
       "      <td>196720</td>\n",
       "      <td>0</td>\n",
       "      <td>0.760</td>\n",
       "      <td>0.792</td>\n",
       "      <td>-5.836</td>\n",
       "      <td>0</td>\n",
       "      <td>0.0616</td>\n",
       "      <td>0.1020</td>\n",
       "      <td>0.000000</td>\n",
       "      <td>...</td>\n",
       "      <td>0</td>\n",
       "      <td>0</td>\n",
       "      <td>0</td>\n",
       "      <td>0</td>\n",
       "      <td>0</td>\n",
       "      <td>0</td>\n",
       "      <td>0</td>\n",
       "      <td>0</td>\n",
       "      <td>1</td>\n",
       "      <td>0.562</td>\n",
       "    </tr>\n",
       "  </tbody>\n",
       "</table>\n",
       "<p>25000 rows × 28 columns</p>\n",
       "</div>"
      ],
      "text/plain": [
       "                        popularity  duration_ms  explicit  danceability  \\\n",
       "id                                                                        \n",
       "4Fbc2m4RjOrr6DNmil9byE           8       307107         0         0.583   \n",
       "733ceORqYo0LjPaqkXzmGc          36       242000         0         0.639   \n",
       "3crQSTvz94iEd2BbKg1kLx          20        32095         0         0.774   \n",
       "7KTZXoyFcP6EUccLPnmn7j          15       149238         0         0.735   \n",
       "1h8sss0Ckkashw62PRs4UF          29       213211         0         0.410   \n",
       "...                            ...          ...       ...           ...   \n",
       "6OLqAJGyNLeksAQnEQCIz2          14       271133         0         0.767   \n",
       "28CDZ57gYDikYi2KZ7cznW          47       352773         0         0.561   \n",
       "6vOJHoP0bNnqwm92aEFpNm          13       134933         0         0.510   \n",
       "64yTh2P1pFAfjkovnSmR2E           6       371252         1         0.344   \n",
       "4QNdvS38mhYW6C62uyWD5e          60       196720         0         0.760   \n",
       "\n",
       "                        energy  loudness  mode  speechiness  acousticness  \\\n",
       "id                                                                          \n",
       "4Fbc2m4RjOrr6DNmil9byE   0.542   -12.644     0       0.0339        0.6010   \n",
       "733ceORqYo0LjPaqkXzmGc   0.764    -8.158     1       0.0326        0.0462   \n",
       "3crQSTvz94iEd2BbKg1kLx   0.379   -14.964     1       0.5520        0.8010   \n",
       "7KTZXoyFcP6EUccLPnmn7j   0.906   -12.144     0       0.0572        0.4330   \n",
       "1h8sss0Ckkashw62PRs4UF   0.238   -13.903     0       0.0436        0.6080   \n",
       "...                        ...       ...   ...          ...           ...   \n",
       "6OLqAJGyNLeksAQnEQCIz2   0.745    -7.822     1       0.0539        0.1050   \n",
       "28CDZ57gYDikYi2KZ7cznW   0.351   -16.977     0       0.0364        0.5350   \n",
       "6vOJHoP0bNnqwm92aEFpNm   0.308   -13.515     1       0.0255        0.4310   \n",
       "64yTh2P1pFAfjkovnSmR2E   0.819    -8.210     1       0.0632        0.1460   \n",
       "4QNdvS38mhYW6C62uyWD5e   0.792    -5.836     0       0.0616        0.1020   \n",
       "\n",
       "                        instrumentalness  ...  key_3  key_4  key_5  key_6  \\\n",
       "id                                        ...                               \n",
       "4Fbc2m4RjOrr6DNmil9byE          0.001500  ...      0      0      1      0   \n",
       "733ceORqYo0LjPaqkXzmGc          0.002150  ...      0      0      0      0   \n",
       "3crQSTvz94iEd2BbKg1kLx          0.000000  ...      0      0      0      0   \n",
       "7KTZXoyFcP6EUccLPnmn7j          0.000000  ...      0      0      0      0   \n",
       "1h8sss0Ckkashw62PRs4UF          0.000003  ...      0      0      0      1   \n",
       "...                                  ...  ...    ...    ...    ...    ...   \n",
       "6OLqAJGyNLeksAQnEQCIz2          0.000000  ...      0      1      0      0   \n",
       "28CDZ57gYDikYi2KZ7cznW          0.000001  ...      0      0      0      0   \n",
       "6vOJHoP0bNnqwm92aEFpNm          0.001010  ...      0      0      0      0   \n",
       "64yTh2P1pFAfjkovnSmR2E          0.001970  ...      0      0      0      0   \n",
       "4QNdvS38mhYW6C62uyWD5e          0.000000  ...      0      0      0      0   \n",
       "\n",
       "                        key_7  key_8  key_9  key_10  key_11  valence  \n",
       "id                                                                    \n",
       "4Fbc2m4RjOrr6DNmil9byE      0      0      0       0       0    0.913  \n",
       "733ceORqYo0LjPaqkXzmGc      0      0      1       0       0    0.857  \n",
       "3crQSTvz94iEd2BbKg1kLx      0      0      0       0       0    0.609  \n",
       "7KTZXoyFcP6EUccLPnmn7j      0      0      1       0       0    0.938  \n",
       "1h8sss0Ckkashw62PRs4UF      0      0      0       0       0    0.293  \n",
       "...                       ...    ...    ...     ...     ...      ...  \n",
       "6OLqAJGyNLeksAQnEQCIz2      0      0      0       0       0    0.914  \n",
       "28CDZ57gYDikYi2KZ7cznW      0      0      0       0       0    0.387  \n",
       "6vOJHoP0bNnqwm92aEFpNm      0      0      0       0       1    0.440  \n",
       "64yTh2P1pFAfjkovnSmR2E      0      0      1       0       0    0.536  \n",
       "4QNdvS38mhYW6C62uyWD5e      0      0      0       0       1    0.562  \n",
       "\n",
       "[25000 rows x 28 columns]"
      ]
     },
     "execution_count": 299,
     "metadata": {},
     "output_type": "execute_result"
    }
   ],
   "source": [
    "songs_for_neural"
   ]
  },
  {
   "cell_type": "code",
   "execution_count": 300,
   "metadata": {},
   "outputs": [],
   "source": [
    "songs_for_neural_array = songs_for_neural.values"
   ]
  },
  {
   "cell_type": "code",
   "execution_count": 301,
   "metadata": {},
   "outputs": [],
   "source": [
    "length_of_df_without_valence = len(songs_for_neural_array[0])-1"
   ]
  },
  {
   "cell_type": "code",
   "execution_count": 302,
   "metadata": {},
   "outputs": [],
   "source": [
    "X = songs_for_neural_array[:,0:length_of_df_without_valence]"
   ]
  },
  {
   "cell_type": "code",
   "execution_count": 303,
   "metadata": {},
   "outputs": [],
   "source": [
    "Y = songs_for_neural_array[:,length_of_df_without_valence]"
   ]
  },
  {
   "cell_type": "code",
   "execution_count": 304,
   "metadata": {},
   "outputs": [],
   "source": [
    "from sklearn import preprocessing\n",
    "min_max_scaler = preprocessing.MinMaxScaler()\n",
    "X_scale = min_max_scaler.fit_transform(X)"
   ]
  },
  {
   "cell_type": "code",
   "execution_count": 305,
   "metadata": {},
   "outputs": [
    {
     "name": "stdout",
     "output_type": "stream",
     "text": [
      "(17500, 27) (3750, 27) (3750, 27) (17500,) (3750,) (3750,)\n"
     ]
    }
   ],
   "source": [
    "from sklearn.model_selection import train_test_split\n",
    "X_train, X_val_and_test, Y_train, Y_val_and_test = train_test_split(X_scale, Y, test_size=0.3)\n",
    "X_val, X_test, Y_val, Y_test = train_test_split(X_val_and_test, Y_val_and_test, test_size=0.5)\n",
    "print(X_train.shape, X_val.shape, X_test.shape, Y_train.shape, Y_val.shape, Y_test.shape)"
   ]
  },
  {
   "cell_type": "code",
   "execution_count": 306,
   "metadata": {},
   "outputs": [],
   "source": [
    "from tensorflow.keras.layers.experimental import preprocessing\n",
    "normalizer = preprocessing.Normalization()\n",
    "normalizer.adapt(np.array(X_train))"
   ]
  },
  {
   "cell_type": "code",
   "execution_count": 307,
   "metadata": {},
   "outputs": [],
   "source": [
    "from keras.models import Sequential\n",
    "from keras.layers import Dense"
   ]
  },
  {
   "cell_type": "code",
   "execution_count": 308,
   "metadata": {},
   "outputs": [],
   "source": [
    "from keras.layers import Dropout\n",
    "from keras import regularizers\n",
    "from tensorflow import keras"
   ]
  },
  {
   "cell_type": "code",
   "execution_count": 309,
   "metadata": {},
   "outputs": [],
   "source": [
    "model = Sequential([\n",
    "    normalizer,\n",
    "    Dense(64, activation='relu', input_shape=(27,)),\n",
    "    Dropout(0.3),\n",
    "    Dense(64, activation='relu'),\n",
    "    Dropout(0.3),\n",
    "    Dense(1),\n",
    "])"
   ]
  },
  {
   "cell_type": "code",
   "execution_count": 310,
   "metadata": {},
   "outputs": [],
   "source": [
    "model.compile(optimizer='adam',\n",
    "              loss='mean_absolute_error')"
   ]
  },
  {
   "cell_type": "code",
   "execution_count": 311,
   "metadata": {},
   "outputs": [
    {
     "name": "stdout",
     "output_type": "stream",
     "text": [
      "Epoch 1/100\n",
      "547/547 [==============================] - 1s 2ms/step - loss: 0.2526 - val_loss: 0.1776\n",
      "Epoch 2/100\n",
      "547/547 [==============================] - 1s 1ms/step - loss: 0.1757 - val_loss: 0.1596\n",
      "Epoch 3/100\n",
      "547/547 [==============================] - 1s 1ms/step - loss: 0.1622 - val_loss: 0.1520\n",
      "Epoch 4/100\n",
      "547/547 [==============================] - 1s 1ms/step - loss: 0.1566 - val_loss: 0.1521\n",
      "Epoch 5/100\n",
      "547/547 [==============================] - 1s 1ms/step - loss: 0.1538 - val_loss: 0.1498\n",
      "Epoch 6/100\n",
      "547/547 [==============================] - 1s 1ms/step - loss: 0.1505 - val_loss: 0.1453\n",
      "Epoch 7/100\n",
      "547/547 [==============================] - 1s 1ms/step - loss: 0.1491 - val_loss: 0.1426\n",
      "Epoch 8/100\n",
      "547/547 [==============================] - 1s 1ms/step - loss: 0.1475 - val_loss: 0.1465\n",
      "Epoch 9/100\n",
      "547/547 [==============================] - 1s 1ms/step - loss: 0.1470 - val_loss: 0.1421\n",
      "Epoch 10/100\n",
      "547/547 [==============================] - 1s 1ms/step - loss: 0.1455 - val_loss: 0.1406\n",
      "Epoch 11/100\n",
      "547/547 [==============================] - 1s 1ms/step - loss: 0.1450 - val_loss: 0.1383\n",
      "Epoch 12/100\n",
      "547/547 [==============================] - 1s 1ms/step - loss: 0.1453 - val_loss: 0.1407\n",
      "Epoch 13/100\n",
      "547/547 [==============================] - 1s 1ms/step - loss: 0.1440 - val_loss: 0.1391\n",
      "Epoch 14/100\n",
      "547/547 [==============================] - 1s 1ms/step - loss: 0.1433 - val_loss: 0.1401\n",
      "Epoch 15/100\n",
      "547/547 [==============================] - 1s 1ms/step - loss: 0.1432 - val_loss: 0.1390\n",
      "Epoch 16/100\n",
      "547/547 [==============================] - 1s 1ms/step - loss: 0.1427 - val_loss: 0.1395\n",
      "Epoch 17/100\n",
      "547/547 [==============================] - 1s 1ms/step - loss: 0.1419 - val_loss: 0.1392\n",
      "Epoch 18/100\n",
      "547/547 [==============================] - 1s 1ms/step - loss: 0.1416 - val_loss: 0.1382\n",
      "Epoch 19/100\n",
      "547/547 [==============================] - 1s 1ms/step - loss: 0.1417 - val_loss: 0.1407\n",
      "Epoch 20/100\n",
      "547/547 [==============================] - 1s 1ms/step - loss: 0.1423 - val_loss: 0.1366\n",
      "Epoch 21/100\n",
      "547/547 [==============================] - 1s 1ms/step - loss: 0.1416 - val_loss: 0.1393\n",
      "Epoch 22/100\n",
      "547/547 [==============================] - 1s 1ms/step - loss: 0.1401 - val_loss: 0.1393\n",
      "Epoch 23/100\n",
      "547/547 [==============================] - 1s 1ms/step - loss: 0.1417 - val_loss: 0.1365\n",
      "Epoch 24/100\n",
      "547/547 [==============================] - 1s 1ms/step - loss: 0.1404 - val_loss: 0.1359\n",
      "Epoch 25/100\n",
      "547/547 [==============================] - 1s 1ms/step - loss: 0.1403 - val_loss: 0.1355\n",
      "Epoch 26/100\n",
      "547/547 [==============================] - 1s 1ms/step - loss: 0.1404 - val_loss: 0.1364\n",
      "Epoch 27/100\n",
      "547/547 [==============================] - 1s 1ms/step - loss: 0.1400 - val_loss: 0.1369\n",
      "Epoch 28/100\n",
      "547/547 [==============================] - 1s 1ms/step - loss: 0.1396 - val_loss: 0.1358\n",
      "Epoch 29/100\n",
      "547/547 [==============================] - 1s 1ms/step - loss: 0.1396 - val_loss: 0.1359\n",
      "Epoch 30/100\n",
      "547/547 [==============================] - 1s 1ms/step - loss: 0.1391 - val_loss: 0.1385\n",
      "Epoch 31/100\n",
      "547/547 [==============================] - 1s 1ms/step - loss: 0.1387 - val_loss: 0.1372\n",
      "Epoch 32/100\n",
      "547/547 [==============================] - 1s 2ms/step - loss: 0.1393 - val_loss: 0.1385\n",
      "Epoch 33/100\n",
      "547/547 [==============================] - 1s 2ms/step - loss: 0.1391 - val_loss: 0.1351\n",
      "Epoch 34/100\n",
      "547/547 [==============================] - 1s 1ms/step - loss: 0.1384 - val_loss: 0.1397\n",
      "Epoch 35/100\n",
      "547/547 [==============================] - 1s 1ms/step - loss: 0.1389 - val_loss: 0.1361\n",
      "Epoch 36/100\n",
      "547/547 [==============================] - 1s 1ms/step - loss: 0.1384 - val_loss: 0.1391\n",
      "Epoch 37/100\n",
      "547/547 [==============================] - 1s 1ms/step - loss: 0.1389 - val_loss: 0.1389\n",
      "Epoch 38/100\n",
      "547/547 [==============================] - 1s 1ms/step - loss: 0.1393 - val_loss: 0.1376\n",
      "Epoch 39/100\n",
      "547/547 [==============================] - 1s 1ms/step - loss: 0.1382 - val_loss: 0.1362\n",
      "Epoch 40/100\n",
      "547/547 [==============================] - 1s 1ms/step - loss: 0.1379 - val_loss: 0.1353\n",
      "Epoch 41/100\n",
      "547/547 [==============================] - 1s 1ms/step - loss: 0.1383 - val_loss: 0.1364\n",
      "Epoch 42/100\n",
      "547/547 [==============================] - 1s 1ms/step - loss: 0.1377 - val_loss: 0.1346\n",
      "Epoch 43/100\n",
      "547/547 [==============================] - 1s 1ms/step - loss: 0.1375 - val_loss: 0.1371\n",
      "Epoch 44/100\n",
      "547/547 [==============================] - 1s 1ms/step - loss: 0.1376 - val_loss: 0.1347\n",
      "Epoch 45/100\n",
      "547/547 [==============================] - 1s 1ms/step - loss: 0.1378 - val_loss: 0.1403\n",
      "Epoch 46/100\n",
      "547/547 [==============================] - 1s 1ms/step - loss: 0.1373 - val_loss: 0.1365\n",
      "Epoch 47/100\n",
      "547/547 [==============================] - 1s 1ms/step - loss: 0.1373 - val_loss: 0.1391\n",
      "Epoch 48/100\n",
      "547/547 [==============================] - 1s 1ms/step - loss: 0.1373 - val_loss: 0.1369\n",
      "Epoch 49/100\n",
      "547/547 [==============================] - 1s 1ms/step - loss: 0.1373 - val_loss: 0.1361\n",
      "Epoch 50/100\n",
      "547/547 [==============================] - 1s 1ms/step - loss: 0.1373 - val_loss: 0.1355\n",
      "Epoch 51/100\n",
      "547/547 [==============================] - 1s 1ms/step - loss: 0.1372 - val_loss: 0.1354\n",
      "Epoch 52/100\n",
      "547/547 [==============================] - 1s 1ms/step - loss: 0.1364 - val_loss: 0.1364\n",
      "Epoch 53/100\n",
      "547/547 [==============================] - 1s 1ms/step - loss: 0.1370 - val_loss: 0.1403\n",
      "Epoch 54/100\n",
      "547/547 [==============================] - 1s 1ms/step - loss: 0.1369 - val_loss: 0.1344\n",
      "Epoch 55/100\n",
      "547/547 [==============================] - 1s 1ms/step - loss: 0.1365 - val_loss: 0.1368\n",
      "Epoch 56/100\n",
      "547/547 [==============================] - 1s 1ms/step - loss: 0.1364 - val_loss: 0.1381\n",
      "Epoch 57/100\n",
      "547/547 [==============================] - 1s 1ms/step - loss: 0.1366 - val_loss: 0.1370\n",
      "Epoch 58/100\n",
      "547/547 [==============================] - 1s 1ms/step - loss: 0.1364 - val_loss: 0.1346\n",
      "Epoch 59/100\n",
      "547/547 [==============================] - 1s 1ms/step - loss: 0.1373 - val_loss: 0.1358\n",
      "Epoch 60/100\n",
      "547/547 [==============================] - 1s 1ms/step - loss: 0.1362 - val_loss: 0.1358\n",
      "Epoch 61/100\n",
      "547/547 [==============================] - 1s 1ms/step - loss: 0.1357 - val_loss: 0.1371\n",
      "Epoch 62/100\n",
      "547/547 [==============================] - 1s 1ms/step - loss: 0.1365 - val_loss: 0.1378\n",
      "Epoch 63/100\n",
      "547/547 [==============================] - 1s 1ms/step - loss: 0.1354 - val_loss: 0.1350\n",
      "Epoch 64/100\n",
      "547/547 [==============================] - 1s 1ms/step - loss: 0.1361 - val_loss: 0.1362\n",
      "Epoch 65/100\n",
      "547/547 [==============================] - 1s 1ms/step - loss: 0.1355 - val_loss: 0.1352\n",
      "Epoch 66/100\n",
      "547/547 [==============================] - 1s 1ms/step - loss: 0.1354 - val_loss: 0.1366\n",
      "Epoch 67/100\n",
      "547/547 [==============================] - 1s 1ms/step - loss: 0.1357 - val_loss: 0.1364\n",
      "Epoch 68/100\n",
      "547/547 [==============================] - 1s 1ms/step - loss: 0.1360 - val_loss: 0.1352\n",
      "Epoch 69/100\n",
      "547/547 [==============================] - ETA: 0s - loss: 0.135 - 1s 1ms/step - loss: 0.1357 - val_loss: 0.1364\n"
     ]
    }
   ],
   "source": [
    "early_stop = keras.callbacks.EarlyStopping(monitor='val_loss', patience=15)\n",
    "\n",
    "hist = model.fit(X_train, Y_train,\n",
    "          batch_size=32, epochs=100,\n",
    "          validation_data=(X_val, Y_val),\n",
    "          callbacks=[early_stop])"
   ]
  },
  {
   "cell_type": "code",
   "execution_count": 312,
   "metadata": {},
   "outputs": [
    {
     "data": {
      "text/plain": [
       "0.13870762288570404"
      ]
     },
     "execution_count": 312,
     "metadata": {},
     "output_type": "execute_result"
    }
   ],
   "source": [
    "model.evaluate(X_test, Y_test,verbose=0)"
   ]
  },
  {
   "cell_type": "code",
   "execution_count": 313,
   "metadata": {},
   "outputs": [
    {
     "data": {
      "image/png": "[encoded data removed]",
      "text/plain": [
       "<Figure size 432x288 with 1 Axes>"
      ]
     },
     "metadata": {
      "needs_background": "light"
     },
     "output_type": "display_data"
    }
   ],
   "source": [
    "import matplotlib.pyplot as plt\n",
    "plt.plot(hist.history['loss'])\n",
    "plt.plot(hist.history['val_loss'])\n",
    "plt.title('Model loss')\n",
    "plt.ylabel('Loss')\n",
    "plt.xlabel('Epoch')\n",
    "plt.legend(['Train', 'Val'], loc='upper right')\n",
    "plt.show()"
   ]
  },
  {
   "cell_type": "code",
   "execution_count": 85,
   "metadata": {},
   "outputs": [
    {
     "data": {
      "image/png": "[encoded data removed]",
      "text/plain": [
       "<Figure size 432x288 with 1 Axes>"
      ]
     },
     "metadata": {
      "needs_background": "light"
     },
     "output_type": "display_data"
    }
   ],
   "source": [
    "test_predictions = model.predict(X_test).flatten()\n",
    "\n",
    "a = plt.axes(aspect='equal')\n",
    "plt.scatter(Y_test, test_predictions)\n",
    "plt.xlabel('True Values [MPG]')\n",
    "plt.ylabel('Predictions [MPG]')\n",
    "lims = [0, 1]\n",
    "plt.xlim(lims)\n",
    "plt.ylim(lims)\n",
    "_ = plt.plot(lims, lims)"
   ]
  },
  {
   "cell_type": "markdown",
   "metadata": {},
   "source": [
    "# Neural second approach"
   ]
  },
  {
   "cell_type": "code",
   "execution_count": 125,
   "metadata": {},
   "outputs": [],
   "source": [
    "from tensorflow import keras\n",
    "from tensorflow.keras import layers\n",
    "from tensorflow.keras.callbacks import EarlyStopping\n",
    "from sklearn.ensemble import RandomForestRegressor\n",
    "from sklearn.metrics import mean_absolute_error"
   ]
  },
  {
   "cell_type": "code",
   "execution_count": 133,
   "metadata": {},
   "outputs": [],
   "source": [
    "from keras.callbacks import ReduceLROnPlateau\n",
    "\n",
    "reduce_lr = ReduceLROnPlateau(monitor='val_loss', factor=0.2,\n",
    "                              patience=10, min_lr=0.01)"
   ]
  },
  {
   "cell_type": "code",
   "execution_count": 183,
   "metadata": {},
   "outputs": [],
   "source": [
    "from keras.callbacks import ModelCheckpoint\n",
    "\n",
    "checkpoint_name = 'Weights\\Weights-{epoch:03d}--{val_loss:.5f}.hdf5' \n",
    "\n",
    "checkpoint = ModelCheckpoint(checkpoint_name, monitor='val_loss', verbose = 1, save_best_only = True, mode ='auto')\n",
    "callbacks_list = [checkpoint]\n"
   ]
  },
  {
   "cell_type": "code",
   "execution_count": null,
   "metadata": {},
   "outputs": [],
   "source": [
    "    # layers.BatchNormalization(),\n",
    "    # model.add(layers.Dense(64, input_shape=(27,))),\n",
    "    # model.add(layers.LeakyReLU(alpha=0.3)),\n",
    "    # layers.Dropout(rate=0.3),\n",
    "    # layers.BatchNormalization(),\n",
    "    # model.add(layers.Dense(64)),\n",
    "    # model.add(layers.LeakyReLU(alpha=0.3)),\n",
    "    # model.add(layers.Dropout(rate=0.15)),\n",
    "    \n",
    "    # layers.Dense(1, activation='sigmoid'),"
   ]
  },
  {
   "cell_type": "code",
   "execution_count": null,
   "metadata": {},
   "outputs": [],
   "source": []
  },
  {
   "cell_type": "code",
   "execution_count": 189,
   "metadata": {},
   "outputs": [
    {
     "name": "stdout",
     "output_type": "stream",
     "text": [
      "Epoch 1/100\n",
      "547/547 [==============================] - 1s 2ms/step - loss: 0.1496 - val_loss: 0.1265\n",
      "Epoch 2/100\n",
      "547/547 [==============================] - 1s 2ms/step - loss: 0.1312 - val_loss: 0.1252\n",
      "Epoch 3/100\n",
      "547/547 [==============================] - 1s 2ms/step - loss: 0.1270 - val_loss: 0.1223\n",
      "Epoch 4/100\n",
      "547/547 [==============================] - 1s 2ms/step - loss: 0.1253 - val_loss: 0.1207\n",
      "Epoch 5/100\n",
      "547/547 [==============================] - 1s 2ms/step - loss: 0.1242 - val_loss: 0.1191\n",
      "Epoch 6/100\n",
      "547/547 [==============================] - 1s 2ms/step - loss: 0.1229 - val_loss: 0.1187\n",
      "Epoch 7/100\n",
      "547/547 [==============================] - 1s 2ms/step - loss: 0.1220 - val_loss: 0.1181\n",
      "Epoch 8/100\n",
      "547/547 [==============================] - 1s 2ms/step - loss: 0.1206 - val_loss: 0.1181\n",
      "Epoch 9/100\n",
      "547/547 [==============================] - 1s 1ms/step - loss: 0.1214 - val_loss: 0.1174\n",
      "Epoch 10/100\n",
      "547/547 [==============================] - 1s 1ms/step - loss: 0.1206 - val_loss: 0.1182\n",
      "Epoch 11/100\n",
      "547/547 [==============================] - 1s 1ms/step - loss: 0.1199 - val_loss: 0.1170\n",
      "Epoch 12/100\n",
      "547/547 [==============================] - 1s 1ms/step - loss: 0.1196 - val_loss: 0.1170\n",
      "Epoch 13/100\n",
      "547/547 [==============================] - 1s 1ms/step - loss: 0.1191 - val_loss: 0.1165\n",
      "Epoch 14/100\n",
      "547/547 [==============================] - 1s 1ms/step - loss: 0.1181 - val_loss: 0.1164\n",
      "Epoch 15/100\n",
      "547/547 [==============================] - 1s 2ms/step - loss: 0.1183 - val_loss: 0.1161\n",
      "Epoch 16/100\n",
      "547/547 [==============================] - 1s 2ms/step - loss: 0.1181 - val_loss: 0.1160\n",
      "Epoch 17/100\n",
      "547/547 [==============================] - 1s 1ms/step - loss: 0.1172 - val_loss: 0.1160\n",
      "Epoch 18/100\n",
      "547/547 [==============================] - 1s 1ms/step - loss: 0.1169 - val_loss: 0.1156\n",
      "Epoch 19/100\n",
      "547/547 [==============================] - 1s 2ms/step - loss: 0.1175 - val_loss: 0.1162\n",
      "Epoch 20/100\n",
      "547/547 [==============================] - 1s 2ms/step - loss: 0.1164 - val_loss: 0.1151\n",
      "Epoch 21/100\n",
      "547/547 [==============================] - 1s 1ms/step - loss: 0.1170 - val_loss: 0.1150\n",
      "Epoch 22/100\n",
      "547/547 [==============================] - 1s 2ms/step - loss: 0.1164 - val_loss: 0.1148\n",
      "Epoch 23/100\n",
      "547/547 [==============================] - 1s 1ms/step - loss: 0.1160 - val_loss: 0.1149\n",
      "Epoch 24/100\n",
      "547/547 [==============================] - 1s 1ms/step - loss: 0.1170 - val_loss: 0.1159\n",
      "Epoch 25/100\n",
      "547/547 [==============================] - 1s 1ms/step - loss: 0.1164 - val_loss: 0.1160\n",
      "Epoch 26/100\n",
      "547/547 [==============================] - 1s 2ms/step - loss: 0.1157 - val_loss: 0.1153\n",
      "Epoch 27/100\n",
      "547/547 [==============================] - 1s 1ms/step - loss: 0.1169 - val_loss: 0.1143\n",
      "Epoch 28/100\n",
      "547/547 [==============================] - 1s 1ms/step - loss: 0.1159 - val_loss: 0.1147\n",
      "Epoch 29/100\n",
      "547/547 [==============================] - 1s 1ms/step - loss: 0.1152 - val_loss: 0.1140\n",
      "Epoch 30/100\n",
      "547/547 [==============================] - 1s 1ms/step - loss: 0.1148 - val_loss: 0.1145\n",
      "Epoch 31/100\n",
      "547/547 [==============================] - 1s 2ms/step - loss: 0.1156 - val_loss: 0.1145\n",
      "Epoch 32/100\n",
      "547/547 [==============================] - ETA: 0s - loss: 0.114 - 1s 1ms/step - loss: 0.1148 - val_loss: 0.1149\n",
      "Epoch 33/100\n",
      "547/547 [==============================] - 1s 2ms/step - loss: 0.1154 - val_loss: 0.1152\n",
      "Epoch 34/100\n",
      "547/547 [==============================] - 1s 2ms/step - loss: 0.1145 - val_loss: 0.1145\n",
      "Epoch 35/100\n",
      "547/547 [==============================] - 1s 2ms/step - loss: 0.1145 - val_loss: 0.1148\n",
      "Epoch 36/100\n",
      "547/547 [==============================] - 1s 2ms/step - loss: 0.1145 - val_loss: 0.1148\n",
      "Epoch 37/100\n",
      "547/547 [==============================] - 1s 2ms/step - loss: 0.1143 - val_loss: 0.1142\n"
     ]
    }
   ],
   "source": [
    "early_stopping = EarlyStopping(\n",
    "    min_delta=0.001, # minimium amount of change to count as an improvement\n",
    "    patience=15, # how many epochs to wait before stopping\n",
    "    restore_best_weights=True,\n",
    ")\n",
    "\n",
    "\n",
    "dl_model = keras.Sequential([\n",
    "    layers.BatchNormalization(),\n",
    "    layers.Dense(64, activation='relu', input_shape=(27,)),\n",
    "    layers.Dropout(rate=0.15),\n",
    "    layers.BatchNormalization(),\n",
    "    layers.Dense(64, activation='relu'),    \n",
    "    layers.Dense(1, activation='sigmoid'),\n",
    "])\n",
    "\n",
    "dl_model.compile(\n",
    "    optimizer=\"adam\",\n",
    "    loss=\"mae\",\n",
    ")\n",
    "\n",
    "history = dl_model.fit(\n",
    "    X_train, Y_train,\n",
    "    validation_data=(X_val, Y_val),\n",
    "    batch_size=32,\n",
    "    epochs=100,\n",
    "    callbacks=[early_stopping], # put your callbacks in a list\n",
    "    verbose=1,  # turn off training log\n",
    ")\n",
    "\n"
   ]
  },
  {
   "cell_type": "code",
   "execution_count": 190,
   "metadata": {},
   "outputs": [
    {
     "name": "stdout",
     "output_type": "stream",
     "text": [
      "Minimum validation loss: 0.11400499939918518\n"
     ]
    },
    {
     "data": {
      "image/png": "[encoded data removed]",
      "text/plain": [
       "<Figure size 432x288 with 1 Axes>"
      ]
     },
     "metadata": {
      "needs_background": "light"
     },
     "output_type": "display_data"
    }
   ],
   "source": [
    "history_df = pd.DataFrame(history.history)\n",
    "history_df.loc[:, ['loss', 'val_loss']].plot();\n",
    "print(\"Minimum validation loss: {}\".format(history_df['val_loss'].min()))"
   ]
  },
  {
   "cell_type": "code",
   "execution_count": 191,
   "metadata": {},
   "outputs": [
    {
     "data": {
      "text/plain": [
       "0.11353887617588043"
      ]
     },
     "execution_count": 191,
     "metadata": {},
     "output_type": "execute_result"
    }
   ],
   "source": [
    "model.evaluate(X_test, Y_test, verbose=0)"
   ]
  }
 ],
 "metadata": {
  "interpreter": {
   "hash": "a1c048be7b072d6dd25b9ac428dc1fb9f8714e6b09effa99acd4035ec8dbeb08"
  },
  "kernelspec": {
   "display_name": "Python 3.9.0 64-bit (system)",
   "language": "python",
   "name": "python3"
  },
  "language_info": {
   "codemirror_mode": {
    "name": "ipython",
    "version": 3
   },
   "file_extension": ".py",
   "mimetype": "text/x-python",
   "name": "python",
   "nbconvert_exporter": "python",
   "pygments_lexer": "ipython3",
   "version": "3.9.0"
  },
  "orig_nbformat": 4
 },
 "nbformat": 4,
 "nbformat_minor": 2
}
